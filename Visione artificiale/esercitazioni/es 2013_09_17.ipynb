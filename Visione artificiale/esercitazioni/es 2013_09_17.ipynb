{
 "cells": [
  {
   "cell_type": "markdown",
   "id": "b30e74e9-9a20-4146-b375-f22c654fc4a1",
   "metadata": {},
   "source": [
    "Prova del 17-Set-2013 "
   ]
  },
  {
   "cell_type": "markdown",
   "id": "13721db1-dc94-45cf-93be-159615ce9983",
   "metadata": {},
   "source": [
    "\n",
    "Sia InputImage l’immagine grayscale di input.\n",
    "1)\tBinarizzare InputImage utilizzando come soglia la media dei livelli di grigio dei pixel nell’immagine stessa che sono massimi locali di luminosità (considerando semplicemente l’intorno di 8 pixel di ciascuno). Qualora nessun pixel soddisfacesse tale proprietà, utilizzare il valore 128 come soglia.\n",
    "2)\tEseguire, sul risultato del passo precedente, un’operazione morfologica di apertura con un quadrato di lato 7 pixel come elemento strutturante: sia C il risultato.\n",
    "3)\tEstrarre i bordi di C utilizzando la morfologia matematica e un cerchio di diametro 3 pixel come elemento strutturante.\n",
    "4)\tDeterminare tutti i pixel di foreground di C con distanza maggiore di 9 pixel (secondo la metrica d8) dal background (valore 0).\n",
    "5)\tRestituire come output un’immagine grayscale (Result) in cui i pixel di bordo determinati al passo 3 hanno luminosità pari a 255, i pixel determinati al punto 4 hanno luminosità pari a 128 e i restanti pixel hanno luminosità pari alla metà della corrispondente luminosità in InputImage.\n"
   ]
  },
  {
   "cell_type": "code",
   "execution_count": null,
   "id": "b27772ff-9fd1-455d-9cf4-06cd1b098018",
   "metadata": {},
   "outputs": [],
   "source": [
    "#Suggerimenti della simulazione:\n",
    "#Promemoria: alcune funzioni che potrebbero essere utili\n",
    "cv.threshold(src, thresh, maxval, type) -> retval, dst\n",
    "cv.morphologyEx(src, op, kernel) -> dst\n",
    "cv.getStructuringElement(shape, ksize) -> retval\n",
    "cv.distanceTransform(src, distanceType, maskSize) -> dst\n",
    "\n",
    "#Promemoria: alcune costanti che potrebbero essere utili\n",
    "cv.THRESH_BINARY\n",
    "cv.MORPH_ELLIPSE\n",
    "cv.MORPH_ERODE, cv.MORPH_DILATE\n",
    "cv.DIST_C"
   ]
  },
  {
   "cell_type": "code",
   "execution_count": 4,
   "id": "7faeb30c-5d6d-4ee9-9541-3f69b3d8c141",
   "metadata": {},
   "outputs": [],
   "source": [
    "import numpy as np\n",
    "import cv2 as cv\n",
    "import va\n",
    "from ipywidgets import interact"
   ]
  },
  {
   "cell_type": "code",
   "execution_count": null,
   "id": "8af09c07-ad17-45e2-b755-a066eeee084d",
   "metadata": {},
   "outputs": [],
   "source": [
    "\n",
    "#1\n",
    "_, res = cv.threshold(InputImage, np.mean(?), 255, cv.THRESH_BINARY)\n",
    "\n",
    "#2\n",
    "s = cv.getStructuringElement(cv.MORPH_RECT, (7,7))\n",
    "C = cv.morphologyEx(res, cv.MORPH_OPEN, s)\n",
    "\n",
    "#3\n",
    "s2 = cv.getStructuringElement(cv.MORPH_ELLIPSE, (3,3))\n",
    "C2 = cv.morphologyEx(C, cv.?, s2)\n",
    "\n",
    "#4\n",
    "img4 = np.where(cv.distanceTransform(C, cv.DIST_C, 3)>9, 255, 0).astype(np.uint8) #?\n",
    "\n",
    "#5\n",
    "Result = []\n",
    "for i in InputImage:\n",
    "    Result[i]=InputImage[i]/2 #?\n",
    "\n",
    "Result[C ? ]=255\n",
    "Result[C2 ? ]=128\n",
    "\n",
    "return Result\n",
    "\n",
    "\n"
   ]
  }
 ],
 "metadata": {
  "kernelspec": {
   "display_name": "Python 3 (ipykernel)",
   "language": "python",
   "name": "python3"
  },
  "language_info": {
   "codemirror_mode": {
    "name": "ipython",
    "version": 3
   },
   "file_extension": ".py",
   "mimetype": "text/x-python",
   "name": "python",
   "nbconvert_exporter": "python",
   "pygments_lexer": "ipython3",
   "version": "3.9.7"
  }
 },
 "nbformat": 4,
 "nbformat_minor": 5
}
