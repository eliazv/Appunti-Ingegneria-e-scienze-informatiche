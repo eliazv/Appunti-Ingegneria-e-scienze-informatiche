{
 "cells": [
  {
   "cell_type": "markdown",
   "id": "bee6b66c-f38b-4370-9c9c-b09e9dc99d0d",
   "metadata": {},
   "source": [
    "Sia InputImage l’immagine grayscale di input\n",
    "1)\tCalcolare, per ogni pixel di InputImage (esclusi eventualmente quelli di bordo), le componenti x e y del gradiente mediante convoluzione con opportuni filtri.\n",
    "2)\tCalcolare, per ogni pixel di InputImage (esclusi eventualmente quelli di bordo), l’orientazione del gradiente, esprimendola come angolo in radianti in [-π,π].\n",
    "3)\tBinarizzare InputImage utilizzando una soglia globale pari al livello medio di grigio dell’immagine.\n",
    "4)\tEtichettare le componenti connesse dell’immagine binarizzata, utilizzando 255 come valore di foreground.\n",
    "5)\tIndividuare eventuali componenti connesse che soddisfino la seguente condizione: almeno il 15% dei pixel ha orientazione del gradiente (così come calcolata su InputImage) compresa nell’intervallo (-π/4,π/4).\n",
    "6)\tRestituire come output un’immagine grayscale (Result) in cui i pixel appartenenti alle componenti connesse individuate al passo precedente corrispondono a quelli di InputImage, mentre tutti gli altri pixel hanno valore zero.\n"
   ]
  },
  {
   "cell_type": "code",
   "execution_count": 1,
   "id": "20b36207-2a64-4852-9f05-f3a6aca7ffab",
   "metadata": {},
   "outputs": [],
   "source": [
    "import numpy as np\n",
    "import cv2 as cv\n",
    "import va\n",
    "from ipywidgets import interact"
   ]
  },
  {
   "cell_type": "code",
   "execution_count": null,
   "id": "e3b79c35-d146-4ce7-a45a-ec2d980e3361",
   "metadata": {},
   "outputs": [],
   "source": [
    "#1\n",
    "dx, dy = cv.spatialGradient(InputImage)\n",
    "\n",
    "#2\n",
    "ang = cv.phase(dx, dy)\n",
    "\n",
    "#3\n",
    "_, res = cv.threshold(InputImage, np.mean(InputImage), 255, cv.THRESH_BINARY)\n",
    "\n",
    "#4\n",
    "n, cc, stats, _ = cv.connectedComponentsWithStats(mask) #foreground??\n",
    "\n",
    "#5\n",
    "comp = [i for i in range(1,n) if stats[i,cv.CC_STAT_AREA]<25] ??\n",
    "\n",
    "#6\n",
    "Result = []\n",
    "Result[mask==255]=255\n",
    "Result[mask!=255]=0 \n",
    "return Result \n",
    "\n"
   ]
  }
 ],
 "metadata": {
  "kernelspec": {
   "display_name": "Python 3 (ipykernel)",
   "language": "python",
   "name": "python3"
  },
  "language_info": {
   "codemirror_mode": {
    "name": "ipython",
    "version": 3
   },
   "file_extension": ".py",
   "mimetype": "text/x-python",
   "name": "python",
   "nbconvert_exporter": "python",
   "pygments_lexer": "ipython3",
   "version": "3.9.7"
  }
 },
 "nbformat": 4,
 "nbformat_minor": 5
}
