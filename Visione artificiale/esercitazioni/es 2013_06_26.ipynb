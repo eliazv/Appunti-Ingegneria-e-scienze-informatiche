{
 "cells": [
  {
   "cell_type": "markdown",
   "id": "d3370ccd-71ea-450c-8cd4-e9af30d828ba",
   "metadata": {},
   "source": [
    "Sia InputImage l’immagine grayscale di input.\n",
    "1)\tCalcolare, per ogni pixel dell’immagine, la media dei pixel in un intorno 51x51, considerando eventuali pixel fuori dal bordo come aventi livello di grigio pari a zero.\n",
    "2)\tCalcolare l’immagine Diff in cui ciascun pixel è il valore assoluto della differenza fra il pixel corrispondente nell’immagine originale e il valore medio determinato al passo precedente.\n",
    "3)\tEseguire l’operazione di contrast stretching su Diff.\n",
    "4)\tBinarizzare Diff utilizzando come soglia globale il valore 128.\n",
    "5)\tEtichettare le componenti connesse del risultato ottenuto al passo precedente usando la metrica D4; eliminare pio le componenti connesse con un perimetro superiore a 25 pixel.\n",
    "6)\tRestituire come output un’immagine grayscale (Result) in cui i pixel appartenenti alle componenti connesse individuate al passo precedente hanno valore 255, mentre tutti gli altri pixel hanno valore 0.\n"
   ]
  },
  {
   "cell_type": "code",
   "execution_count": null,
   "id": "0c26b4d5-f4b7-4a7e-ae95-ab3d4525b8f7",
   "metadata": {},
   "outputs": [],
   "source": [
    "#Suggerimenti della simulazione:\n",
    "#Promemoria: alcune funzioni che potrebbero essere utili\n",
    "cv.threshold(src, thresh, maxval, type) -> retval, dst\n",
    "cv.morphologyEx(src, op, kernel) -> dst\n",
    "cv.getStructuringElement(shape, ksize) -> retval\n",
    "cv.distanceTransform(src, distanceType, maskSize) -> dst\n",
    "\n",
    "#Promemoria: alcune costanti che potrebbero essere utili\n",
    "cv.THRESH_BINARY\n",
    "cv.MORPH_ELLIPSE\n",
    "cv.MORPH_ERODE, cv.MORPH_DILATE\n",
    "cv.DIST_C"
   ]
  },
  {
   "cell_type": "code",
   "execution_count": 1,
   "id": "33e5437d-622c-4f32-9a16-ec40e769722a",
   "metadata": {},
   "outputs": [],
   "source": [
    "import numpy as np\n",
    "import cv2 as cv\n",
    "import va\n",
    "from ipywidgets import interact"
   ]
  },
  {
   "cell_type": "code",
   "execution_count": null,
   "id": "c07cf7c9-1be5-47c8-b610-d03c8d1c308c",
   "metadata": {},
   "outputs": [],
   "source": [
    "#1\n",
    "r = 2\n",
    "i = np.zeros_like(InputImage)\n",
    "for x in InputImage.shape[0]: #x?\n",
    "    for y in InputImage.shape[1]: #y?\n",
    "        i[x, y] = InputImage[x-r:x+r+1, y-r:y+r+1].mean()\n",
    "        #np.mean(InputImage[x,y])\n",
    "\n",
    "#no, binarizza non fa la media\n",
    "res = cv.adaptiveThreshold(InputImage, 255, cv.ADAPTIVE_THRESH_MEAN_C, cv.THRESH_BINARY, 51, 0)\n",
    "\n",
    "#2\n",
    "Diff = np.abs(InputImage - res)\n",
    "\n",
    "#3\n",
    "??\n",
    "\t# Converte in floating point\n",
    "\tn = 255*(img.astype(float)-a)/(b-a)\n",
    "\t# Forza il range [0,255] e converte in byte\n",
    "\treturn np.clip(n, 0, 255).astype(np.uint8)\n",
    "\n",
    "#4\n",
    "_, res = cv.threshold(InputImage, 128, 255, cv.THRESH_BINARY)\n",
    "\n",
    "#5\n",
    "n, cc, stats, _ = cv.connectedComponentsWithStats(mask, connectivity=4) #connectivity??\n",
    "small = [i for i in range(1,n) if stats[i,cv.CC_STAT_AREA]<25] #perimetro, non area\n",
    "mask[np.isin(cc, small)] = 0\n",
    "\n",
    "#6\n",
    "Result = []\n",
    "Result[mask==255]=255\n",
    "Result[mask!=255]=0 ??\n",
    "return Result"
   ]
  }
 ],
 "metadata": {
  "kernelspec": {
   "display_name": "Python 3 (ipykernel)",
   "language": "python",
   "name": "python3"
  },
  "language_info": {
   "codemirror_mode": {
    "name": "ipython",
    "version": 3
   },
   "file_extension": ".py",
   "mimetype": "text/x-python",
   "name": "python",
   "nbconvert_exporter": "python",
   "pygments_lexer": "ipython3",
   "version": "3.9.7"
  }
 },
 "nbformat": 4,
 "nbformat_minor": 5
}
