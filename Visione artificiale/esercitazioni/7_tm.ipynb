{
 "cells": [
  {
   "cell_type": "markdown",
   "metadata": {
    "deletable": false,
    "editable": false
   },
   "source": [
    "<img style=\"float:right\" src=\"images/logo_va.png\" /> \n",
    "\n",
    "# Visione Artificiale\n",
    "## Esercitazione: Template matching"
   ]
  },
  {
   "cell_type": "markdown",
   "metadata": {
    "deletable": false,
    "editable": false
   },
   "source": [
    "### Sommario\n",
    "* Ricerca di un oggetto all'interno di un'immagine mediante template matching\n",
    "* Ricerca di template multipli ottenuti modificando il fattore si scala di un template base\n",
    "* Template matching su feature diverse dai semplici pixel dell'immagine\n",
    "* Ricerca di più istanze dello stesso oggetto mediante template matching"
   ]
  },
  {
   "cell_type": "markdown",
   "metadata": {
    "deletable": false,
    "editable": false
   },
   "source": [
    "Iniziamo con l'importazione dei moduli che ci serviranno: `NumPy`, `OpenCV`, `va`. Importiamo anche la funzione `interact` di Jupyter."
   ]
  },
  {
   "cell_type": "code",
   "execution_count": null,
   "metadata": {
    "deletable": false,
    "editable": false
   },
   "outputs": [],
   "source": [
    "import numpy as np\n",
    "import cv2 as cv\n",
    "import va\n",
    "from ipywidgets import interact"
   ]
  },
  {
   "cell_type": "markdown",
   "metadata": {
    "deletable": false,
    "editable": false
   },
   "source": [
    "In questa esercitazione utilizzeremo alcune tecniche apprese a lezione, per risolvere un problema che per anni ha impegnato persone di ogni età in tutto il mondo: **la ricerca di Waldo**.\n",
    "Consiste nel cercare il noto personaggio all'interno di un'immagine come quella che viene mostrata eseguendo la cella seguente."
   ]
  },
  {
   "cell_type": "code",
   "execution_count": null,
   "metadata": {
    "deletable": false,
    "editable": false
   },
   "outputs": [],
   "source": [
    "img1 = cv.imread('tm/WhereIsWaldo1.jpg')\n",
    "va.show(img1)"
   ]
  },
  {
   "cell_type": "markdown",
   "metadata": {
    "deletable": false,
    "editable": false
   },
   "source": [
    "<img style=\"float:left\" src=\"images/ar.png\" />**Esercizio 1** - Utilizzando il template matching, cercare all'interno dell'immagine `img1`, creata dalla cella precedente, il template contenuto nell'immagine \"tm/t1.png\". La misura del grado di somiglianza può essere effettuata con il metodo che si preferisce, purchè sia efficace. Eventualmente eseguire dei test con più metodi. Completare la funzione `FindWaldo1` che deve restituire una tupla `(x, y, w, h)`, in cui `x, y` sono le coordinate del vertice superiore sinistro della posizione dell'oggetto dell'immagine e `w, h` sono le sue dimensioni (pari a quelle del template).  \n",
    "Suggerimenti: la funzione `cv.minMaxLoc` può essere utile per cercare la posizione in cui la corrispondenza con il template è massima."
   ]
  },
  {
   "cell_type": "code",
   "execution_count": null,
   "metadata": {},
   "outputs": [],
   "source": [
    "# --- Svolgimento Esercizio 1: Inizio --- #\n",
    "\n",
    "def FindWaldo1():\n",
    "    template = ... # Caricare l'immagine del template\n",
    "    \n",
    "    # trovare la posizione del template nell'immagine\n",
    "    x, y = ..., ...\n",
    "    w, h = ..., ...\n",
    "    \n",
    "    return x, y, w, h\n",
    "\n",
    "# --- Svolgimento Esercizio 1: Fine --- #"
   ]
  },
  {
   "cell_type": "markdown",
   "metadata": {
    "deletable": false,
    "editable": false
   },
   "source": [
    "<img style=\"float:left\" src=\"images/in.png\" />L'esecuzione della cella seguente consente di visualizzare il risultato ottenuto e di verificare che sia corretto."
   ]
  },
  {
   "cell_type": "code",
   "execution_count": null,
   "metadata": {
    "deletable": false,
    "editable": false
   },
   "outputs": [],
   "source": [
    "rect = FindWaldo1()\n",
    "va.test_tm_1(rect)\n",
    "va.show(cv.rectangle(img1.copy(), rect[:2], (rect[0]+rect[2], rect[1]+rect[3]), (255,0,0), 3))"
   ]
  },
  {
   "cell_type": "markdown",
   "metadata": {
    "deletable": false,
    "editable": false
   },
   "source": [
    "L'obiettivo del prossimo esercizio è lo stesso del precedente: trovare la posizione di Waldo, utilizzando \"tm/t2.png\" come template nell'immagine \"tm/WhereIsWaldo2.jpg\". La differenza è che in questo caso il template fornito è un po' più piccolo rispetto all'immagine. Sarà necessario creare più copie del template modificandone il fattore di scala e cercare ciascuna di queste all'interno dell'immagine, per poi selezionare il template e la posizione che hanno ottenuto la massima somiglianza."
   ]
  },
  {
   "cell_type": "code",
   "execution_count": null,
   "metadata": {
    "deletable": false,
    "editable": false
   },
   "outputs": [],
   "source": [
    "img2 = cv.imread('tm/WhereIsWaldo2.jpg')\n",
    "va.show(img2)"
   ]
  },
  {
   "cell_type": "code",
   "execution_count": null,
   "metadata": {
    "deletable": false,
    "editable": false
   },
   "outputs": [],
   "source": [
    "template2 = cv.imread('tm/t2.png')\n",
    "va.show(template2, enlarge_small_images=False)"
   ]
  },
  {
   "cell_type": "markdown",
   "metadata": {
    "deletable": false,
    "editable": false
   },
   "source": [
    "<img style=\"float:left\" src=\"images/ar.png\" />**Esercizio 2** - Creare una lista di immagini `templates` a partire da `template2`, utilizzando i seguenti fattori di scala: 100%, 120%, 140% e 160%. Prestare particolare attenzione alla dimensione delle immagini: larghezza e altezza dovranno essere arrotondate all'intero più vicino in base al corrispondente fattore di scala. Questo può essere ottenuto, ad esempio, sfruttando con gli appropriati parametri una certa funzione OpenCV. Eseguire poi la cella successiva per controllare che le dimensioni delle immagini nella lista siano quelle attese."
   ]
  },
  {
   "cell_type": "code",
   "execution_count": null,
   "metadata": {},
   "outputs": [],
   "source": [
    "# --- Svolgimento Esercizio 2: Inizio --- #\n",
    "\n",
    "templates = ...\n",
    "\n",
    "# --- Svolgimento Esercizio 2: Fine --- #"
   ]
  },
  {
   "cell_type": "code",
   "execution_count": null,
   "metadata": {
    "deletable": false,
    "editable": false
   },
   "outputs": [],
   "source": [
    "va.show(*templates, enlarge_small_images=False)\n",
    "va.test_tm_2(templates)"
   ]
  },
  {
   "cell_type": "markdown",
   "metadata": {
    "deletable": false,
    "editable": false
   },
   "source": [
    "<img style=\"float:left\" src=\"images/ar.png\" />**Esercizio 3** - Utilizzando il template matching, cercare, all'interno dell'immagine `img2`, ciascun template nella lista `templates` e restituire la posizione di quello che ha la massima somiglianza. Si suggerisce di utilizzare un metodo normalizzato per misurare il grado di somiglianza, in modo da essere indipendenti dalle dimensioni del template. Completare la funzione `FindWaldo2`, che deve restituire una tupla `(x, y, w, h)`, in cui `x, y` sono le coordinate del vertice superiore sinistro della posizione dell'oggetto dell'immagine e `w, h` sono le sue dimensioni (pari a quelle del template, fra tutti quelli nella lista, che è risultato più simile)."
   ]
  },
  {
   "cell_type": "code",
   "execution_count": null,
   "metadata": {},
   "outputs": [],
   "source": [
    "# --- Svolgimento Esercizio 3: Inizio --- #\n",
    "\n",
    "def FindWaldo2():\n",
    "    \n",
    "    # trovare la posizione del template più simile fra tutti quelli nella lista    \n",
    "    x, y = ..., ...\n",
    "    w, h = ..., ...\n",
    "    \n",
    "    return x, y, w, h\n",
    "\n",
    "# --- Svolgimento Esercizio 3: Fine --- #"
   ]
  },
  {
   "cell_type": "markdown",
   "metadata": {
    "deletable": false,
    "editable": false
   },
   "source": [
    "<img style=\"float:left\" src=\"images/in.png\" />L'esecuzione della cella seguente consente di visualizzare il risultato ottenuto e di verificare che sia corretto, sia come posizione che come dimensione del rettangolo."
   ]
  },
  {
   "cell_type": "code",
   "execution_count": null,
   "metadata": {
    "deletable": false,
    "editable": false
   },
   "outputs": [],
   "source": [
    "rect = FindWaldo2()\n",
    "va.test_tm_3(rect)\n",
    "va.show(cv.rectangle(img2.copy(), rect[:2], (rect[0]+rect[2], rect[1]+rect[3]), (255,0,0), 3))"
   ]
  },
  {
   "cell_type": "markdown",
   "metadata": {
    "deletable": false,
    "editable": false
   },
   "source": [
    "Nella terza e ultima ricerca di Waldo che affrontiamo, per un problema tecnico il template da cercare è costituito solo dai bordi: sarà necessario trovare un modo per risolvere anche questo problema. Le due celle seguenti, una volta eseguite, caricano l'immagine (`img3`) e il template da cercare (`template3`)."
   ]
  },
  {
   "cell_type": "code",
   "execution_count": null,
   "metadata": {
    "deletable": false,
    "editable": false
   },
   "outputs": [],
   "source": [
    "img3 = cv.imread('tm/WhereIsWaldo3.jpg')\n",
    "va.show(img3)"
   ]
  },
  {
   "cell_type": "code",
   "execution_count": null,
   "metadata": {
    "deletable": false,
    "editable": false
   },
   "outputs": [],
   "source": [
    "template3 = cv.imread('tm/t3.png', cv.IMREAD_GRAYSCALE)\n",
    "va.show(template3, enlarge_small_images=False)"
   ]
  },
  {
   "cell_type": "markdown",
   "metadata": {
    "deletable": false,
    "editable": false
   },
   "source": [
    "<img style=\"float:left\" src=\"images/ar.png\" />**Esercizio 4** - Utilizzando il template matching, cercare, all'interno dell'immagine `img3`, il template `template3`. In primo luogo verificare che un semplice procedimento come quello del primo esercizio in questo caso non può portare al risultato desiderato; cercare quindi un modo di trasformare il template o l'immagine per poter applicare con successo il template matching. Completare la funzione `FindWaldo3`, che deve restituire una tupla `(x, y, w, h)`, in cui `x, y` sono le coordinate del vertice superiore sinistro della posizione dell'oggetto dell'immagine e `w, h` sono le sue dimensioni (pari a quelle del template)."
   ]
  },
  {
   "cell_type": "code",
   "execution_count": null,
   "metadata": {},
   "outputs": [],
   "source": [
    "# --- Svolgimento Esercizio 4: Inizio --- #\n",
    "\n",
    "def FindWaldo3():\n",
    "\n",
    "    # trovare la posizione del template nell'immagine\n",
    "    x, y = ..., ...\n",
    "    w, h = ..., ...\n",
    "    \n",
    "    return x, y, w, h\n",
    "\n",
    "# --- Svolgimento Esercizio 4: Fine --- #"
   ]
  },
  {
   "cell_type": "markdown",
   "metadata": {
    "deletable": false,
    "editable": false
   },
   "source": [
    "<img style=\"float:left\" src=\"images/in.png\" />L'esecuzione della cella seguente consente di visualizzare il risultato ottenuto e di verificare che sia corretto."
   ]
  },
  {
   "cell_type": "code",
   "execution_count": null,
   "metadata": {
    "deletable": false,
    "editable": false
   },
   "outputs": [],
   "source": [
    "rect = FindWaldo3()\n",
    "va.test_tm_4(rect)\n",
    "va.show(cv.rectangle(img3.copy(), rect[:2], (rect[0]+rect[2], rect[1]+rect[3]), (255,0,0), 3))"
   ]
  },
  {
   "cell_type": "markdown",
   "metadata": {
    "deletable": false,
    "editable": false
   },
   "source": [
    "Negli esercizi precedenti, in ogni immagine si doveva cercare *un solo oggetto*: era quindi sufficiente cercare il massimo (o il minimo, a seconda del metodo utilizzato) del valore di somiglianza su tutti i pixel. Nell'ultima parte dell'esercitazione affronteremo il caso in cui *più copie dell'oggetto di interesse siano presenti* e vadano individuate all'interno dell'immagine.  \n",
    "Si considerino l'immagine e il template che sono caricati e visualizzati eseguendo la cella seguente."
   ]
  },
  {
   "cell_type": "code",
   "execution_count": null,
   "metadata": {
    "deletable": false,
    "editable": false
   },
   "outputs": [],
   "source": [
    "img, template = cv.imread('tm/many_coins.png'), cv.imread('tm/coin.png')\n",
    "va.show(img, template, enlarge_small_images=False)"
   ]
  },
  {
   "cell_type": "markdown",
   "metadata": {
    "deletable": false,
    "editable": false
   },
   "source": [
    "<img style=\"float:left\" src=\"images/ar.png\" />**Esercizio 5** - Utilizzando il template matching, cercare, all'interno dell'immagine `img`, tutte le posizioni in cui compare il template `template`. Completare il codice nella cella seguente che deve creare una lista di tuple `(x, y, w, h)` (`rettangoli`), in cui, per ogni oggetto individuato, `x, y` sono le coordinate del suo vertice superiore sinistro e `w, h` sono le sue dimensioni (pari a quelle del template). In queso esercizio non è richiesto di trovare un solo rettangolo per ogni oggetto: è possibile che lo stesso oggetto sia trovato più volte, in posizioni molto vicine fra loro. Questo problema sarà poi affrontato nell'ultimo esercizio.  \n",
    "Suggerimenti: sarà necessario determinare una soglia da applicare al valore di somiglianza dei pixel, per poi restituire tutte le posizioni il cui valore di somiglianza supera tale soglia (nell'ipotesi di utilizzare un metodo in cui i valori più alti indicano maggior somiglianza). Una possibile strategia per scegliere una soglia ragionevole può essere individuare il valore massimo di somiglianza e impostare la soglia relativamente a tale valore (ad esempio come 70% del valore massimo)."
   ]
  },
  {
   "cell_type": "code",
   "execution_count": null,
   "metadata": {},
   "outputs": [],
   "source": [
    "# --- Svolgimento Esercizio 5: Inizio --- #\n",
    "\n",
    "# trovare tutte le posizioni del template nell'immagine\n",
    "rettangoli = [(..., ..., ..., ...), (..., ..., ..., ...), ..., (..., ..., ..., ...)]\n",
    "\n",
    "# --- Svolgimento Esercizio 5: Fine --- #"
   ]
  },
  {
   "cell_type": "markdown",
   "metadata": {
    "deletable": false,
    "editable": false
   },
   "source": [
    "<img style=\"float:left\" src=\"images/in.png\" />L'esecuzione della cella seguente consente di visualizzare il risultato ottenuto e di verificare che tutti gli oggetti siano individuati da almeno uno dei rettangoli nella lista."
   ]
  },
  {
   "cell_type": "code",
   "execution_count": null,
   "metadata": {
    "deletable": false,
    "editable": false
   },
   "outputs": [],
   "source": [
    "va.test_tm_5(rettangoli)\n",
    "tmp = img.copy()\n",
    "for (x, y, w, h) in rettangoli:\n",
    "    cv.rectangle(tmp, (x, y), (x+w, y+h), (0,0,255), 1)\n",
    "va.show(tmp)"
   ]
  },
  {
   "cell_type": "markdown",
   "metadata": {
    "deletable": false,
    "editable": false
   },
   "source": [
    "<img style=\"float:left\" src=\"images/ar.png\" />**Esercizio 6** - A partire dalla lista `rettangoli`, ottenere una nuova lista `rettangoli_ok` che contenga un solo rettangolo per ogni oggetto da individuare. In altre parole, in caso di più rettangoli sovrapposti, è richiesto di considerarne solo uno: quello che corrisponde al valore di somiglianza più alto con il template.  \n",
    "Suggerimenti: fra le possibili strategie, una consiste nello sfruttare la funzione OpenCV `cv.dnn.NMSBoxes` che, anche se fa parte del modulo sulle reti neurali, può essere utile in questo caso. Se si decide di procedere in questo modo, oltre a studiare la documentazione di tale funzione, è necessario assicurarsi che: 1) la lista di rettangoli passata a `cv.dnn.NMSBoxes` contenga tuple i cui valori sono tutti di tipo `int` Python e non di un tipo NumPy; 2) la lista di valori di somiglianza (scores) che tale funzione richiede contenga valori di tipo `float` Python."
   ]
  },
  {
   "cell_type": "code",
   "execution_count": null,
   "metadata": {},
   "outputs": [],
   "source": [
    "# --- Svolgimento Esercizio 6: Inizio --- #\n",
    "\n",
    "# selezionare un solo rettangolo per ogni oggetto\n",
    "rettangoli_ok = [(..., ..., ..., ...), (..., ..., ..., ...), ..., (..., ..., ..., ...)]\n",
    "\n",
    "# --- Svolgimento Esercizio 6: Fine --- #"
   ]
  },
  {
   "cell_type": "markdown",
   "metadata": {
    "deletable": false,
    "editable": false
   },
   "source": [
    "<img style=\"float:left\" src=\"images/in.png\" />L'esecuzione della cella seguente consente di visualizzare il risultato ottenuto e di verificare che tutti gli oggetti siano individuati, ciascuno da un solo rettangolo."
   ]
  },
  {
   "cell_type": "code",
   "execution_count": null,
   "metadata": {
    "deletable": false,
    "editable": false
   },
   "outputs": [],
   "source": [
    "va.test_tm_6(rettangoli_ok)\n",
    "tmp = img.copy()\n",
    "for (x, y, w, h) in rettangoli_ok:\n",
    "    cv.rectangle(tmp, (x, y), (x+w, y+h), (0,0,255), 1)\n",
    "va.show(tmp)"
   ]
  },
  {
   "cell_type": "code",
   "execution_count": null,
   "metadata": {
    "deletable": false,
    "editable": false
   },
   "outputs": [],
   "source": []
  }
 ],
 "metadata": {
  "kernelspec": {
   "display_name": "Python 3 (ipykernel)",
   "language": "python",
   "name": "python3"
  },
  "language_info": {
   "codemirror_mode": {
    "name": "ipython",
    "version": 3
   },
   "file_extension": ".py",
   "mimetype": "text/x-python",
   "name": "python",
   "nbconvert_exporter": "python",
   "pygments_lexer": "ipython3",
   "version": "3.8.12"
  }
 },
 "nbformat": 4,
 "nbformat_minor": 4
}
