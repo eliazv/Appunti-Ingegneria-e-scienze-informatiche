{
 "cells": [
  {
   "cell_type": "markdown",
   "id": "371dd4d3-1889-41f6-949d-18c97b3b7422",
   "metadata": {},
   "source": [
    "1. binarizzi un’immagine grayscale utilizzando come soglia locale il valore corrispondente al minimo fra la media dei livelli di grigio in un intorno di 5x5 pixel e la media dei livelli di grigio dell’intera immagine.\n",
    "2. In prossimità dei bordi, dove non tutto l’intorno è disponibile, considerare il livello di grigio dei pixel mancanti pari a zero.\n",
    "3. che riceva in input un’immagine grayscale e che:  la binarizzi utilizzando la classe implementata nell’esercizio precedente; \n",
    "4. conti il numero di componenti connesse (considerando il foreground pari a 255) con perimetro inferiore a metà della propria area."
   ]
  },
  {
   "cell_type": "code",
   "execution_count": 1,
   "id": "243d96b8-e961-454a-9e94-ab0420b14c0d",
   "metadata": {},
   "outputs": [],
   "source": [
    "import numpy as np\n",
    "import cv2 as cv\n",
    "import va\n",
    "from ipywidgets import interact"
   ]
  },
  {
   "cell_type": "code",
   "execution_count": null,
   "id": "58853210-8a5f-4b96-b171-5145942dd215",
   "metadata": {},
   "outputs": [],
   "source": [
    "#1\n",
    "_, res = cv.threshold(InputImage, np.argmin([intorno?, np.mean(ImageInput)]), 255, cv.THRESH_BINARY)\n",
    "\n",
    "#4"
   ]
  }
 ],
 "metadata": {
  "kernelspec": {
   "display_name": "Python 3 (ipykernel)",
   "language": "python",
   "name": "python3"
  },
  "language_info": {
   "codemirror_mode": {
    "name": "ipython",
    "version": 3
   },
   "file_extension": ".py",
   "mimetype": "text/x-python",
   "name": "python",
   "nbconvert_exporter": "python",
   "pygments_lexer": "ipython3",
   "version": "3.9.7"
  }
 },
 "nbformat": 4,
 "nbformat_minor": 5
}
