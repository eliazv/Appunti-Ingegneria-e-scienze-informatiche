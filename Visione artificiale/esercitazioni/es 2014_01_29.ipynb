{
 "cells": [
  {
   "cell_type": "markdown",
   "id": "88fc0ef5-6614-474c-9e33-4d02693fd690",
   "metadata": {},
   "source": [
    "Prova del 29-Gen-2014 "
   ]
  },
  {
   "cell_type": "markdown",
   "id": "52eecbaf-ba09-4f12-9bc9-34cf7f352620",
   "metadata": {},
   "source": [
    "Sia InputImage l’immagine grayscale di input.\n",
    "1)\tCalcolare, per ciascuna riga dell’immagine, la somma dei valori dei pixel: sia Ym la coordinata y della riga dell’immagine con la somma maggiore (nel caso più righe soddisfino tale condizione, considerare quella con coordinata y minore).\n",
    "2)\tBinarizzare InputImage utilizzando come soglia la media dei livelli di grigio dei pixel con coordinata y maggiore o uguale a Ym.\n",
    "3)\tEseguire, sul risultato del passo precedente, un’operazione morfologica di erosione con un cerchio di diametro 7 pixel come elemento strutturante e considerando il foreground pari a 255: sia C il risultato.\n",
    "4)\tEstrarre i bordi di C utilizzando la morfologia matematica e un cerchio di diametro 3 pixel come elemento strutturante.\n",
    "5)\tDeterminare tutti i pixel di background di C con distanza minore di 9 pixel (secondo la metrica d8) dal foreground (valore 255).\n",
    "6)\tRestituire come output un’immagine di int (Result) in cui i pixel di bordo individuati al passo 4 hanno valore pari a -1, i pixel individuati al punto 5 hanno valore pari a 0 e i restanti pixel hanno valore pari al quadrato della corrispondente luminosità in InputImage.\n"
   ]
  },
  {
   "cell_type": "code",
   "execution_count": null,
   "id": "30d54e3a-0ead-4cc5-80ef-18c60458cf08",
   "metadata": {},
   "outputs": [],
   "source": [
    "#Suggerimenti della simulazione:\n",
    "#Promemoria: alcune funzioni che potrebbero essere utili\n",
    "cv.threshold(src, thresh, maxval, type) -> retval, dst\n",
    "cv.morphologyEx(src, op, kernel) -> dst\n",
    "cv.getStructuringElement(shape, ksize) -> retval\n",
    "cv.distanceTransform(src, distanceType, maskSize) -> dst\n",
    "\n",
    "#Promemoria: alcune costanti che potrebbero essere utili\n",
    "cv.THRESH_BINARY\n",
    "cv.MORPH_ELLIPSE\n",
    "cv.MORPH_ERODE, cv.MORPH_DILATE\n",
    "cv.DIST_C"
   ]
  },
  {
   "cell_type": "code",
   "execution_count": 1,
   "id": "c9ed83d5-003b-4457-b7ac-7783b2d1ba90",
   "metadata": {},
   "outputs": [],
   "source": [
    "import numpy as np\n",
    "import cv2 as cv\n",
    "import va\n",
    "from ipywidgets import interact"
   ]
  },
  {
   "cell_type": "code",
   "execution_count": null,
   "id": "aa328575-28ac-4128-862f-dfb62fdd47fc",
   "metadata": {},
   "outputs": [],
   "source": [
    "#1\n",
    "Ym =  np.argmax(np.sum(img, 1))\n",
    "#2\n",
    "_, res = cv.threshold(InputImage, np.mean(InputImage[Ym:]), 255, cv.THRESH_BINARY)\n",
    "\n",
    "#3\n",
    "C = cv.morphologyEx(res, cv.MORPH_ERODE, cv.getStructuringElement(cv.MORPH_ELLIPSE, (7,7)))\n",
    "#considerando il foreground pari a 255??\n",
    "\n",
    "#4\n",
    "C2 = cv.morphologyEx(C, cv.MORPH_?, cv.getStructuringElement(cv.MORPH_ELLIPSE, (3,3))) \n",
    "\n",
    "#5\n",
    "img5 = np.where(cv.distanceTransform(255-C2, cv.DIST_C, 3)>9, 255, 0).astype(np.uint8)\n",
    "\n",
    "#6\n",
    "Result = []\n",
    "Result[C2==255]=-1\n",
    "Result[img5==255]=0\n",
    "for i in InputImage: #boh \n",
    "    Result[i] = InputImage[i] * InputImage[i];\n",
    "return Result"
   ]
  }
 ],
 "metadata": {
  "kernelspec": {
   "display_name": "Python 3 (ipykernel)",
   "language": "python",
   "name": "python3"
  },
  "language_info": {
   "codemirror_mode": {
    "name": "ipython",
    "version": 3
   },
   "file_extension": ".py",
   "mimetype": "text/x-python",
   "name": "python",
   "nbconvert_exporter": "python",
   "pygments_lexer": "ipython3",
   "version": "3.9.7"
  }
 },
 "nbformat": 4,
 "nbformat_minor": 5
}
