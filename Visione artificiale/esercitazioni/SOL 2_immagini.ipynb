{
 "cells": [
  {
   "cell_type": "markdown",
   "metadata": {},
   "source": [
    "<img style=\"float:right\" src=\"images/logo_va.png\" /> \n",
    "\n",
    "# Visione Artificiale\n",
    "## Esercitazione: Operazioni sulle immagini"
   ]
  },
  {
   "cell_type": "code",
   "execution_count": 1,
   "metadata": {},
   "outputs": [
    {
     "name": "stdout",
     "output_type": "stream",
     "text": [
      "3.9.7\n"
     ]
    }
   ],
   "source": [
    "from platform import python_version\n",
    "\n",
    "print(python_version())"
   ]
  },
  {
   "cell_type": "markdown",
   "metadata": {
    "deletable": false,
    "editable": false
   },
   "source": [
    "### Sommario\n",
    "* Creazione e modifica di immagini grayscale memorizzate come array NumPy\n",
    "* Confronto fra velocità di esecuzione di cicli Python e corrispondenti istruzioni NumPy\n",
    "* Caricamento di immagini da file\n",
    "* Semplici operazioni su immagini RGB e grayscale\n",
    "* Binarizzazione di immagini grayscale: con soglia globale e locale\n",
    "* Operazioni aritmetiche fra immagini\n",
    "* Applicazione di una lookup table\n",
    "* Conversione da RGB a HSL e modifiche ai valori HSL"
   ]
  },
  {
   "cell_type": "markdown",
   "metadata": {
    "deletable": false,
    "editable": false
   },
   "source": [
    "Iniziamo con l'importazione dei moduli che ci serviranno: `NumPy`, `OpenCV`, `va`. Importiamo anche la funzione `interact` di Jupyter. "
   ]
  },
  {
   "cell_type": "code",
   "execution_count": 2,
   "metadata": {
    "deletable": false,
    "editable": false
   },
   "outputs": [
    {
     "ename": "ModuleNotFoundError",
     "evalue": "No module named 'va'",
     "output_type": "error",
     "traceback": [
      "\u001b[1;31m---------------------------------------------------------------------------\u001b[0m",
      "\u001b[1;31mModuleNotFoundError\u001b[0m                       Traceback (most recent call last)",
      "\u001b[1;32m~\\AppData\\Local\\Temp/ipykernel_10484/2975820417.py\u001b[0m in \u001b[0;36m<module>\u001b[1;34m\u001b[0m\n\u001b[0;32m      1\u001b[0m \u001b[1;32mimport\u001b[0m \u001b[0mnumpy\u001b[0m \u001b[1;32mas\u001b[0m \u001b[0mnp\u001b[0m\u001b[1;33m\u001b[0m\u001b[1;33m\u001b[0m\u001b[0m\n\u001b[0;32m      2\u001b[0m \u001b[1;32mimport\u001b[0m \u001b[0mcv2\u001b[0m \u001b[1;32mas\u001b[0m \u001b[0mcv\u001b[0m\u001b[1;33m\u001b[0m\u001b[1;33m\u001b[0m\u001b[0m\n\u001b[1;32m----> 3\u001b[1;33m \u001b[1;32mimport\u001b[0m \u001b[0mva\u001b[0m\u001b[1;33m\u001b[0m\u001b[1;33m\u001b[0m\u001b[0m\n\u001b[0m\u001b[0;32m      4\u001b[0m \u001b[1;32mfrom\u001b[0m \u001b[0mipywidgets\u001b[0m \u001b[1;32mimport\u001b[0m \u001b[0minteract\u001b[0m\u001b[1;33m\u001b[0m\u001b[1;33m\u001b[0m\u001b[0m\n",
      "\u001b[1;31mModuleNotFoundError\u001b[0m: No module named 'va'"
     ]
    }
   ],
   "source": [
    "import numpy as np\n",
    "import cv2 as cv\n",
    "import va\n",
    "from ipywidgets import interact"
   ]
  },
  {
   "cell_type": "markdown",
   "metadata": {
    "deletable": false,
    "editable": false
   },
   "source": [
    "Un dei moduli che abbiamo appena importato (`cv2`) contiene il wrapper Python della libreria OpenCV (scritta in C++). Tutti gli array (incluse le immagini) utilizzati in OpenCV sono convertite in/da array NumPy.  \n",
    "Iniziamo dunque a fare pratica con le immagini: eseguendo la prossima cella sarà creata una piccola immagine a toni di grigio contenente valori casuali, con dimensione (7,9) e un byte per pixel."
   ]
  },
  {
   "cell_type": "code",
   "execution_count": null,
   "metadata": {
    "deletable": false,
    "editable": false
   },
   "outputs": [],
   "source": [
    "img = np.random.randint(0,256,(7,9), dtype=np.uint8)\n",
    "print(img, img.shape, img.dtype)"
   ]
  },
  {
   "cell_type": "markdown",
   "metadata": {
    "deletable": false,
    "editable": false
   },
   "source": [
    "Il seguente comando consente di avere rapidamente informazioni sul tipo della variabile `img`."
   ]
  },
  {
   "cell_type": "code",
   "execution_count": null,
   "metadata": {
    "deletable": false,
    "editable": false
   },
   "outputs": [],
   "source": [
    "img?"
   ]
  },
  {
   "cell_type": "markdown",
   "metadata": {
    "deletable": false,
    "editable": false
   },
   "source": [
    "Nella cella seguente utilizziamo la funzione `show` del modulo `va` per visualizzare comodamente l'immagine all'interno del notebook."
   ]
  },
  {
   "cell_type": "code",
   "execution_count": null,
   "metadata": {
    "deletable": false,
    "editable": false
   },
   "outputs": [],
   "source": [
    "va.show(img)"
   ]
  },
  {
   "cell_type": "markdown",
   "metadata": {
    "deletable": false,
    "editable": false
   },
   "source": [
    "Tutte le funzionalità disponibili sugli array NumPy sono quindi utilizzabili sulle immagini definite in questo modo. La cella seguente mostra alcuni esempi di *slicing* utilizzato per indicizzare pixel dell'immagine."
   ]
  },
  {
   "cell_type": "code",
   "execution_count": null,
   "metadata": {
    "deletable": false,
    "editable": false
   },
   "outputs": [],
   "source": [
    "img[2, 1] = 255 - img[2,1] # Cambia il pixel alle coordinate (x=1,y=2) nel suo \"negativo\"\n",
    "img[5] = 128 # Tutti i pixel della sesta riga diventano del valore 128\n",
    "img[:, 6] = 255 # Tutti i pixel della settima colonna diventano bianchi\n",
    "img[1, :3] = 0 # Pixel (x,1) con x in [0..2] a zero\n",
    "img[3, :3] = 0 # Pixel (x,3) con x in [0..2] a zero\n",
    "img[2, :3:2] = 0 # Pixel (0,2) e (2,2) a zero\n",
    "img[1::2, 8] = 255 # Tutti i pixel (x,y) con y dispari e x=8 diventano bianchi\n",
    "va.show(img)"
   ]
  },
  {
   "cell_type": "markdown",
   "metadata": {
    "deletable": false,
    "editable": false
   },
   "source": [
    "La cella seguente calcola la media dei valori di grigio nell'immagine, quindi pone a zero tutti i pixel con valore inferiore alla media e a 255 tutti quelli con valore superiore. Si noti che il confronto fra due immagini (`img1 < avg`) restituisce un array di valori `bool` con le stesse dimensioni dell'immagine (si osservi il contenuto della variabile `tmp`): tale array viene utilizzato per selezionare i soli elementi corrispondenti ai valori `True`, ad esempio con l'istruzione `img1[img1 < avg] = 0`."
   ]
  },
  {
   "cell_type": "code",
   "execution_count": null,
   "metadata": {
    "deletable": false,
    "editable": false
   },
   "outputs": [],
   "source": [
    "img1 = img.copy()\n",
    "avg = img1.mean()\n",
    "img1[img1 < avg] = 0\n",
    "img1[img1 > avg] = 255\n",
    "va.show((img, 'img'), (img1, 'img1'))\n",
    "tmp = img1 < avg\n",
    "print(tmp)"
   ]
  },
  {
   "cell_type": "markdown",
   "metadata": {
    "deletable": false,
    "editable": false
   },
   "source": [
    "Le due celle seguenti misurano il tempo di esecuzione dell'istruzione `img1[img1 < avg] = 0` rispetto a una implementazione con cicli in Python. Si nota chiaramente come la prima soluzione sia molto più efficiente. Per quale motivo?"
   ]
  },
  {
   "cell_type": "code",
   "execution_count": null,
   "metadata": {
    "deletable": false,
    "editable": false
   },
   "outputs": [],
   "source": [
    "%%timeit\n",
    "img1[img1 < avg] = 0"
   ]
  },
  {
   "cell_type": "code",
   "execution_count": null,
   "metadata": {
    "deletable": false,
    "editable": false
   },
   "outputs": [],
   "source": [
    "%%timeit\n",
    "h, w = img1.shape\n",
    "for y in range(h):\n",
    "    for x in range(w):\n",
    "        if img1[y, x] < avg:\n",
    "            img1[y, x] = 0"
   ]
  },
  {
   "cell_type": "code",
   "execution_count": null,
   "metadata": {},
   "outputs": [],
   "source": [
    "np.tile(np.arange(0, 256)[:, np.newaxis], (1, 200)).shape"
   ]
  },
  {
   "cell_type": "markdown",
   "metadata": {
    "deletable": false,
    "editable": false
   },
   "source": [
    "<img style=\"float:left\" src=\"images/ar.png\" /> **Esercizio 1** - Nella prossima cella scrivere il codice Python che crea quattro immagini (`immagine1`, `immagine2`, `immagine3`, `immagine4`) con le caratteristiche specificate qui sotto. Eseguire poi anche la cella successiva che contiene alcuni controlli per verificare che le immagini siano state create correttamente.\n",
    "1. `immagine1`: immagine grayscale con dimensione 200x256 (larghezza x altezza), tipo di dato dei pixel `np.uint8`; i pixel di ogni colonna devono contenere, dall'alto verso il basso, tutte le possibili sfumature di grigio [0,255]; tutte le colonne devono essere uguali fra loro;\n",
    "2. `immagine2`: come `immagine1` ma ruotata di 90° in senso antiorario (ovvero la matrice è trasposta);\n",
    "3. `immagine3`: una copia di `immagine1` in cui tutti i pixel con valore multiplo di 3 sono modificati nel valore 0;\n",
    "4. `immagine4`: una copia della sotto-immagine di `immagine1` con origine (pixel in alto a sinistra) alle coordinate (100,150) e dimensioni 20x30."
   ]
  },
  {
   "cell_type": "code",
   "execution_count": null,
   "metadata": {},
   "outputs": [],
   "source": [
    "immagine1, immagine2, immagine3, immagine4 = [None] * 4\n",
    "\n",
    "# --- Svolgimento Esercizio 1: Inizio --- #\n",
    "\n",
    "immagine1 = np.tile(np.arange(0, 256, dtype=np.uint8)[:, np.newaxis], (1, 200))\n",
    "\n",
    "immagine2 = np.transpose(immagine1)\n",
    "\n",
    "immagine3 = np.copy(immagine1)\n",
    "immagine3[immagine3%3 == 0] = 0\n",
    "\n",
    "immagine4 = np.copy(immagine1)[150:180, 100:120]\n",
    "# --- Svolgimento Esercizio 1: Fine --- #\n",
    "va.show((immagine1, 'immagine1'), (immagine2, 'immagine2'), (immagine3, 'immagine3'), (immagine4, 'immagine4'))"
   ]
  },
  {
   "cell_type": "code",
   "execution_count": null,
   "metadata": {
    "deletable": false,
    "editable": false
   },
   "outputs": [],
   "source": [
    "va.test_immagini_1(immagine1, immagine2, immagine3, immagine4)"
   ]
  },
  {
   "cell_type": "markdown",
   "metadata": {
    "deletable": false,
    "editable": false
   },
   "source": [
    "Ora proseguiamo con alcuni esperimenti su immagini caricate da file. La funzione `cv.imread` carica un'immagine da file e restituisce un array NumPy che ne contiene i pixel. *Attenzione: se il file non esiste, non viene generato un errore: la funzione restituisce `None`*."
   ]
  },
  {
   "cell_type": "code",
   "execution_count": null,
   "metadata": {
    "deletable": false,
    "editable": false
   },
   "outputs": [],
   "source": [
    "img = cv.imread('file inesistente.jpg')\n",
    "print(f\"Valore se il file non esiste: {img}\")\n",
    "toys = cv.imread('immagini/toys.png')\n",
    "print(f\"Dimensioni: {toys.shape}, totale valori nell'array: {toys.size}, tipo dei pixel: {toys.dtype}\")"
   ]
  },
  {
   "cell_type": "markdown",
   "metadata": {
    "deletable": false,
    "editable": false
   },
   "source": [
    "Si noti che le immagini a colori vengono rappresentate come vettori tridimensionali (altezza, larghezza, canali), con tre canali; attenzione all'ordine: OpenCV memorizza i canali nell'ordine BGR (Blue, Green, Red).  \n",
    "Osserviamo ora l'effetto di alcune trasformazioni all'array che contiene l'immagine utilizzando tecniche di slicing NumPy."
   ]
  },
  {
   "cell_type": "code",
   "execution_count": null,
   "metadata": {
    "deletable": false,
    "editable": false
   },
   "outputs": [],
   "source": [
    "va.show(\n",
    "    (toys, 'Originale'),\n",
    "    toys[::-1],\n",
    "    toys[:,::-1],\n",
    "    toys[::-1,::-1],\n",
    "    toys[...,::-1],\n",
    ")\n",
    "h, w = toys.shape[:2]\n",
    "h2, w2 = h//2, w//2\n",
    "va.show(\n",
    "    toys[:,:w2],\n",
    "    toys[:h2],\n",
    "    toys[:h2,:w2],\n",
    "    toys[:h2:,w2:],\n",
    "    toys[h2:,:w2:],\n",
    "    toys[h2:,w2:]\n",
    ")\n",
    "va.show(\n",
    "    toys[...,0],\n",
    "    toys[...,1],\n",
    "    toys[...,2],\n",
    "    toys[::10,::10]\n",
    ")"
   ]
  },
  {
   "cell_type": "markdown",
   "metadata": {
    "deletable": false,
    "editable": false
   },
   "source": [
    "<img style=\"float:left\" src=\"images/ar.png\" /> **Esercizio 2** - Utilizzando la funzione `cv.cvtColor`, convertire l'immagine `toys` in grayscale e salvare il risultato in una nuova immagine `gray_toys`. Verificare che l'immagine sia composta da un solo canale e il tipo dei pixel sia `np.uint8`. Creare quindi l'immagine `toys_s` a partire da `gray_toys` dimezzando la luminosità di tutti i pixel con valore superiore a 127 e raddoppiando la luminosità di tutti i restanti.\n",
    "Calcolare quindi, per ogni riga dell'immagine `gray_toys`, la somma dei valori dei pixel di `toys_s`, memorizzando tali somme in un array NumPy di tipo `np.uint32` con nome `somma_per_righe`. Suggerimento: controllare la documentazione della funzione `np.sum`.  \n",
    "Eseguire il codice nella cella e quindi eseguire la cella successiva che contiene alcuni controlli per verificare che il risultato sia corretto."
   ]
  },
  {
   "cell_type": "code",
   "execution_count": null,
   "metadata": {},
   "outputs": [],
   "source": [
    "gray_toys, toys_s, somma_per_righe = [None]*3\n",
    "\n",
    "# --- Svolgimento Esercizio 2: Inizio --- #\n",
    "\n",
    "gray_toys = cv.cvtColor(toys.copy(), cv.COLOR_BGR2GRAY)\n",
    "print(gray_toys.dtype)\n",
    "print(gray_toys.shape)\n",
    "\n",
    "toys_s = gray_toys.copy()\n",
    "toys_s[gray_toys > 127] = toys_s[gray_toys > 127]/2\n",
    "toys_s[gray_toys <= 127] *= 2\n",
    "\n",
    "somma_per_righe = np.array(gray_toys.sum(1), dtype=np.uint32)#[:, np.newaxis]\n",
    "\n",
    "# --- Svolgimento Esercizio 2: Fine --- #\n",
    "va.show((gray_toys, 'gray_toys'), (toys_s, 'toys_s'))#, (somma_per_righe, 'somma_per_righe'))"
   ]
  },
  {
   "cell_type": "code",
   "execution_count": null,
   "metadata": {
    "deletable": false,
    "editable": false
   },
   "outputs": [],
   "source": [
    "va.test_immagini_2(gray_toys, toys_s, somma_per_righe)"
   ]
  },
  {
   "cell_type": "markdown",
   "metadata": {
    "deletable": false,
    "editable": false
   },
   "source": [
    "<img style=\"float:left\" src=\"images/ar.png\" /> **Esercizio 3** - Completare la funzione `binarizza` che deve restituire un'immagine binaria con le stesse dimensioni dell'immagine in ingresso `immagine`: i pixel con valore inferiore o uguale a `soglia` devono avere valore zero, quelli con valore superiore devono avere valore 255. L'esercizio può essere risolto molto rapidamente utilizzando una funzione OpenCV, oppure anche una o più funzioni NumPy."
   ]
  },
  {
   "cell_type": "code",
   "execution_count": null,
   "metadata": {},
   "outputs": [],
   "source": [
    "def binarizza(immagine, soglia):\n",
    "\n",
    "    # --- Svolgimento Esercizio 3: Inizio --- #\n",
    "    \n",
    "    return immagine > soglia\n",
    "    \n",
    "    # --- Svolgimento Esercizio 3: Fine --- #        "
   ]
  },
  {
   "cell_type": "markdown",
   "metadata": {
    "deletable": false,
    "editable": false
   },
   "source": [
    "<img style=\"float:left\" src=\"images/in.png\" /> Se l'esercizio precedente è stato svolto correttamente, l'esecuzione della cella seguente consente eseguire in modo interattivo la binarizzazione con soglia globale su alcune immagini."
   ]
  },
  {
   "cell_type": "code",
   "execution_count": null,
   "metadata": {
    "deletable": false,
    "editable": false
   },
   "outputs": [],
   "source": [
    "@interact(immagine=['toys.png','rice.png','tbbt.jpg','torre.jpg', 'sudoku.jpg'], soglia=(0,255))\n",
    "def test_binarizza(immagine, soglia = 127):\n",
    "    t = cv.cvtColor(cv.imread(\"immagini/\" + immagine), cv.COLOR_BGR2GRAY)\n",
    "    b = binarizza(t, soglia)\n",
    "    va.show((t, 'Originale'), (b, 'Binarizzata'))"
   ]
  },
  {
   "cell_type": "markdown",
   "metadata": {
    "deletable": false,
    "editable": false
   },
   "source": [
    "Si può facilmente osservare che un'immagine con illuminazione non uniforme come `sudoku.jpg` non può essere binarizzata correttamente con un'unica soglia per tutti i pixel (soglia globale). Nella cella seguente si può sperimentare il funzionamento di un approccio locale."
   ]
  },
  {
   "cell_type": "code",
   "execution_count": null,
   "metadata": {
    "deletable": false,
    "editable": false
   },
   "outputs": [],
   "source": [
    "@interact(size = (3,39,2), c = (0,29))\n",
    "def binarizzazione_adattiva(size = 11, c = 9):\n",
    "    img = cv.cvtColor(cv.imread(\"immagini/sudoku.jpg\"), cv.COLOR_BGR2GRAY)\n",
    "    b = cv.adaptiveThreshold(img,255,cv.ADAPTIVE_THRESH_MEAN_C, cv.THRESH_BINARY, size, c)\n",
    "    va.show((img,'Originale'), (b,'ADAPTIVE_THRESH_MEAN_C'))"
   ]
  },
  {
   "cell_type": "markdown",
   "metadata": {
    "deletable": false,
    "editable": false
   },
   "source": [
    "<img style=\"float:left\" src=\"images/ar.png\" /> **Esercizio 4** - L'immagine `immagini/tbbt-m.png` a prima vista sembra identica a `immagini/tbbt.jpg`, ma qualcuno l'ha modificata inserendo un messaggio nascosto in alcuni pixel del canale verde. Caricare entrambe le immagini, calcolare una terza immagine come differenza pixel a pixel delle due e visualizzare le tre immagini. Quindi, scansionando i pixel per righe (dall'alto al basso, da sinistra a destra), individuare tutti i pixel in cui c'è una differenza fra le due immagini nella componente verde e costruire una stringa i cui caratteri corrispondono ai codici ASCII del valore della componente verde in tali pixel. Suggerimento: per costruire la stringa possono riverlarsi utili le funzioni `chr` e `str.join`."
   ]
  },
  {
   "cell_type": "code",
   "execution_count": null,
   "metadata": {},
   "outputs": [],
   "source": [
    "# --- Svolgimento Esercizio 4: Inizio --- #\n",
    "\n",
    "tbbt_m = cv.imread(\"immagini/tbbt-m.png\")\n",
    "tbbt = cv.imread(\"immagini/tbbt.jpg\")\n",
    "\n",
    "m = - tbbt + tbbt_m\n",
    "msg = m[tbbt[..., 1] != tbbt_m[..., 1]][..., 1]\n",
    "\n",
    "print(msg)\n",
    "\n",
    "msg = [chr(char) for char in msg]\n",
    "print(\"\".join(msg))\n",
    "\n",
    "# --- Svolgimento Esercizio 4: Fine --- #\n",
    "\n",
    "va.show((tbbt_m, 'tbbt_m'), (tbbt, 'tbbt'), (m, 'm'))"
   ]
  },
  {
   "cell_type": "markdown",
   "metadata": {
    "deletable": false,
    "editable": false
   },
   "source": [
    "<img style=\"float:left\" src=\"images/ar.png\" /> **Esercizio 5** - Visualizzare l'immagine `immagini/lut.png`, quindi in una variabile chiamata `lut` memorizzarne solo la prima riga: verificare che l'array `lut` abbia tipo `np.uint8` e shape (256,3). A questo punto utilizzare tale array come una *lookup table* da grayscale a BGR, applicandola alle immagini grayscale `immagini/radio1.png` e `immagini/radio2.png`, ottenendo due corrispondendi immagini a colori. Visualizzare le quattro immagini sulla stessa riga. Suggerimento: per caricare le immagini direttamente come grayscale, si può passare `cv.IMREAD_GRAYSCALE` come secondo parametro di `cv.imread`, oppure utilizzare `cv.cvtColor` come già visto in precedenza. *N.B. Si richiede di svolgere questo esercizio senza utilizzare la funzione `cv.applyColorMap`.*"
   ]
  },
  {
   "cell_type": "code",
   "execution_count": null,
   "metadata": {},
   "outputs": [],
   "source": [
    "# --- Svolgimento Esercizio 5: Inizio --- #\n",
    "\n",
    "img = cv.imread(\"immagini/lut.png\")\n",
    "va.show((img, 'img'))\n",
    "\n",
    "lut = img[0,...]\n",
    "print(lut.shape)\n",
    "\n",
    "gr1 = cv.imread(\"immagini/radio1.png\", cv.IMREAD_GRAYSCALE)\n",
    "gr2 = cv.imread(\"immagini/radio2.png\", cv.IMREAD_GRAYSCALE)\n",
    "\n",
    "col1 = np.zeros((gr1.shape[0], gr1.shape[1], 3))\n",
    "col2 = np.zeros((gr2.shape[0], gr2.shape[1], 3))\n",
    "print(col1.shape)\n",
    "print(col2.shape)\n",
    "\n",
    "for i in np.arange(0, gr1.shape[0]):\n",
    "    for j in np.arange(0, gr1.shape[1]):\n",
    "        col1[i, j] = lut[gr1[i, j]]\n",
    "\n",
    "for i in np.arange(0, gr2.shape[0]):\n",
    "    for j in np.arange(0, gr2.shape[1]):\n",
    "        col2[i, j] = lut[gr2[i, j]]\n",
    "\n",
    "va.show((gr1, 'gr1'), (gr2, 'gr2'), (col1, 'col1'), (col2, 'col2'))\n",
    "# --- Svolgimento Esercizio 5: Fine --- #"
   ]
  },
  {
   "cell_type": "markdown",
   "metadata": {
    "deletable": false,
    "editable": false
   },
   "source": [
    "<img style=\"float:left\" src=\"images/ar.png\" /> **Esercizio 6** - Caricare l'immagine contenuta nel file `immagini/toys.png` e convertirla in HSV utilizzando `cv.cvtColor`. Separare quindi i tre canali H, S, V (a tale proposito può essere utilizzata la funzione `cv.split` oppure analoghe funzionalità NumPy). Modificare i tre canali HSV in tutti i modi elencati qui sotto, visualizzando poi ciascun risultato dopo aver riconvertito l'immagine in formato BGR. Il risultato deve essere analogo a quanto visto a lezione. Attenzione: ricordarsi che i valori HSV sono memorizzati ciascuno in un byte con H compreso in $[0,180]$, corrispondente a $[0,\\pi]$ e S e V compresi in $[0,255]$, corrispondente a $[0,1]$.\n",
    "\n",
    "Si chiede di visualizzare le seguenti 20 immagini (4 per riga):\n",
    "+ Originale, Solo canale H (come grayscale), Solo canale S (come grayscale), Solo canale V (come grayscale);\n",
    "+ Tutti i pixel del canale H allo stesso valore costante, S e V invariati: $H=0$, $H=\\pi/4$, $H=\\pi/2$, $H=3\\pi/4$;\n",
    "+ Tutti i pixel del canale S allo stesso valore costante, H e V invariati: $S=0$, $S=1/4$, $S=1/2$, $S=1$;\n",
    "+ Tutti i pixel del canale V allo stesso valore costante, H e S invariati: $V=0$, $V=1/4$, $V=1/2$, $V=1$;\n",
    "+ Le ultime quattro immagini come segue:\n",
    "    1. Valori H aumentati di $\\pi/4$ (attenzione alla periodicità), S e V invariati,\n",
    "    2. Valori H aumentati di $\\pi/2$ (attenzione alla periodicità), S e V invariati,\n",
    "    3. Valori V divisi per 2 (divisione intera), H e S invariati,\n",
    "    4. Valori V divisi per 4 (divisione intera), H e S invariati."
   ]
  },
  {
   "cell_type": "code",
   "execution_count": null,
   "metadata": {},
   "outputs": [],
   "source": [
    "# --- Svolgimento Esercizio 6: Inizio --- #\n",
    "\n",
    "toys = cv.imread('immagini/toys.png')\n",
    "toys = cv.cvtColor(toys, cv.COLOR_BGR2HSV)\n",
    "\n",
    "h, s, v = cv.split(toys)\n",
    "original = cv.merge((h, s, v))\n",
    "va.show((cv.cvtColor(original, cv.COLOR_HSV2BGR), \"originale\"))\n",
    "\n",
    "toPrint = list()\n",
    "for hValue in np.arange(0, 180, 45):\n",
    "    h, s, v = cv.split(toys)\n",
    "    h[...] = hValue\n",
    "    original = cv.merge((h, s, v))\n",
    "    toPrint.append((cv.cvtColor(original, cv.COLOR_HSV2BGR), \"h = {}\".format(hValue*2)))\n",
    "va.show(*toPrint)\n",
    "\n",
    "toPrint = list()\n",
    "for sValue in [0, 64, 128 , 255]:\n",
    "    h, s, v = cv.split(toys)\n",
    "    s[...] = sValue\n",
    "    original = cv.merge((h, s, v))\n",
    "    toPrint.append((cv.cvtColor(original, cv.COLOR_HSV2BGR), \"s = {}\".format(sValue)))\n",
    "va.show(*toPrint)\n",
    "\n",
    "toPrint = list()\n",
    "for vValue in [0, 64, 128 , 255]:\n",
    "    h, s, v = cv.split(toys)\n",
    "    v[...] = vValue\n",
    "    original = cv.merge((h, s, v))\n",
    "    toPrint.append((cv.cvtColor(original, cv.COLOR_HSV2BGR), \"v = {}\".format(vValue)))\n",
    "va.show(*toPrint)\n",
    "\n",
    "\n",
    "toPrint = list()\n",
    "\n",
    "h, s, v = cv.split(toys)\n",
    "h[...] += 45\n",
    "h[h > 180] %= 180\n",
    "original = cv.merge((h, s, v))\n",
    "toPrint.append((cv.cvtColor(original, cv.COLOR_HSV2BGR), \"h + pi/4\"))\n",
    "\n",
    "h, s, v = cv.split(toys)\n",
    "h[...] += 90\n",
    "h[h > 180] %= 180\n",
    "original = cv.merge((h, s, v))\n",
    "toPrint.append((cv.cvtColor(original, cv.COLOR_HSV2BGR), \"h + pi/2\"))\n",
    "\n",
    "h, s, v = cv.split(toys)\n",
    "v[...] //= 2\n",
    "original = cv.merge((h, s, v))\n",
    "toPrint.append((cv.cvtColor(original, cv.COLOR_HSV2BGR), \"v/2\"))\n",
    "\n",
    "h, s, v = cv.split(toys)\n",
    "v[...] //= 4\n",
    "original = cv.merge((h, s, v))\n",
    "toPrint.append((cv.cvtColor(original, cv.COLOR_HSV2BGR), \"v/4\"))\n",
    "\n",
    "va.show(*toPrint)\n",
    "# --- Svolgimento Esercizio 6: Fine --- #"
   ]
  },
  {
   "cell_type": "code",
   "execution_count": null,
   "metadata": {},
   "outputs": [],
   "source": []
  }
 ],
 "metadata": {
  "celltoolbar": "Edit Metadata",
  "kernelspec": {
   "display_name": "Python 3 (ipykernel)",
   "language": "python",
   "name": "python3"
  },
  "language_info": {
   "codemirror_mode": {
    "name": "ipython",
    "version": 3
   },
   "file_extension": ".py",
   "mimetype": "text/x-python",
   "name": "python",
   "nbconvert_exporter": "python",
   "pygments_lexer": "ipython3",
   "version": "3.9.7"
  }
 },
 "nbformat": 4,
 "nbformat_minor": 4
}
