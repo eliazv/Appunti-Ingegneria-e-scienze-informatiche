{
 "cells": [
  {
   "cell_type": "markdown",
   "id": "22e703c6-b9fb-480b-9910-8935f357c239",
   "metadata": {},
   "source": [
    "1. esegua l’equalizzazione dell’istogramma di un’immagine grayscale\n",
    "2. implementare un metodo che riceva in input un’immagine binaria (memorizzata come immagine di byte), e un parametro foreground di tipo byte che indica il valore del foreground nell’immagine di input, e che restituisca in output un’immagine corrispondente a quella di input in cui tutti gli eventuali “buchi” all’interno di componenti connesse di foreground risultino “riempiti”.\n",
    "\n",
    "Suggerimento: considerando tutte le componenti connesse di pixel del background, si può supporre che la componente connessa con l’area maggiore sia lo sfondo e tutte le altre siano, appunto, i “buchi”."
   ]
  },
  {
   "cell_type": "code",
   "execution_count": 1,
   "id": "4da35dc7-c5e7-4e6e-be5e-78a05357dc08",
   "metadata": {},
   "outputs": [],
   "source": [
    "import numpy as np\n",
    "import cv2 as cv\n",
    "import va\n",
    "from ipywidgets import interact"
   ]
  },
  {
   "cell_type": "code",
   "execution_count": null,
   "id": "6cc609f7-c011-4317-b695-6e6b8612f425",
   "metadata": {},
   "outputs": [],
   "source": [
    "#1\n",
    "res = cv.equalizeHist(img)\n",
    "\n",
    "#2\n",
    "def metodo_es(imgbin, foreg):\n",
    "    n, cc, stats, _ = cv.connectedComponentsWithStats(255-foreg)\n",
    "    holes = [i for i in range(1,n) if stats[i,cv.CC_STAT_AREA]<2000]\n",
    "    foreg[np.isin(cc, holes)] = 255\n",
    "    \n",
    "    imgbin[foreg==255]=255\n",
    "    return imgbin\n",
    "    \n",
    "    \n"
   ]
  }
 ],
 "metadata": {
  "kernelspec": {
   "display_name": "Python 3 (ipykernel)",
   "language": "python",
   "name": "python3"
  },
  "language_info": {
   "codemirror_mode": {
    "name": "ipython",
    "version": 3
   },
   "file_extension": ".py",
   "mimetype": "text/x-python",
   "name": "python",
   "nbconvert_exporter": "python",
   "pygments_lexer": "ipython3",
   "version": "3.9.7"
  }
 },
 "nbformat": 4,
 "nbformat_minor": 5
}
