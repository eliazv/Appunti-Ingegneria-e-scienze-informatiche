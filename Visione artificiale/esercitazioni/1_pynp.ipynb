{
 "cells": [
  {
   "cell_type": "markdown",
   "metadata": {
    "deletable": false,
    "editable": false
   },
   "source": [
    "<img style=\"float:right\" src=\"images/logo_va.png\" /> \n",
    "\n",
    "# Visione Artificiale\n",
    "## Esercitazione: Python e NumPy"
   ]
  },
  {
   "cell_type": "markdown",
   "metadata": {
    "deletable": false,
    "editable": false
   },
   "source": [
    "### Sommario\n",
    "* Un primo esercizio per per prendere confidenza con Python: generare i numeri perfetti;\n",
    "* Un secondo esercizio in Python: calcolare alcune statistiche sulle parole in un testo;\n",
    "* Un esercizio sullo sli per per prendere confidenza con Python: generare i numeri perfetti;\n",
    "* Un secondo esercizio in Python: calcolare alcune statistiche sulle parole in un testo;\n",
    "* Un esercizio sullo slicing di liste in Python;\n",
    "* Alcune operazioni su matricing di liste in Python;\n",
    "* Alcune operazioni su matrici in Python e in NumPy;\n",
    "* Il setaccio di Eratostene con NumPy."
   ]
  },
  {
   "cell_type": "markdown",
   "metadata": {
    "deletable": false,
    "editable": false
   },
   "source": [
    "Iniziamo con l'importazione dei moduli che ci serviranno: `NumPy` e `va`."
   ]
  },
  {
   "cell_type": "code",
   "execution_count": 2,
   "metadata": {
    "deletable": false,
    "editable": false
   },
   "outputs": [],
   "source": [
    "import numpy as np\n",
    "import va"
   ]
  },
  {
   "cell_type": "markdown",
   "metadata": {
    "deletable": false,
    "editable": false
   },
   "source": [
    "<img style=\"float:left\" src=\"images/ar.png\" /> **Esercizio 1** - Nella prossima cella completare la funzione `perfetti(k)` che deve restituire una lista ordinata dei numeri *perfetti* fra 1 e k. Un numero $N$ si dice perfetto se $\\sigma(N) = 2\\cdot N$, dove la funzione $\\sigma(N)$ restituisce la somma dei divisori positivi di $N$. Ad esempio 6 è perfetto in quanto la somma dei suoi divisori (1, 2, 3, 6) è pari a 12."
   ]
  },
  {
   "cell_type": "code",
   "execution_count": 12,
   "metadata": {},
   "outputs": [
    {
     "name": "stdout",
     "output_type": "stream",
     "text": [
      "[6, 28]\n"
     ]
    }
   ],
   "source": [
    "def perfetti(k):\n",
    "\n",
    "    # --- Svolgimento Esercizio 1: Inizio --- #  \n",
    "    perf = []\n",
    "    for n in range(2,k+1): #n = numero\n",
    "        sum = 0\n",
    "        for d in range(1,n+1): #d = divisore\n",
    "            if (n%d==0):\n",
    "                sum += d\n",
    "        if(n*2==sum):\n",
    "            perf.append(n)\n",
    "        \n",
    "        \n",
    "    # Restituire la lista dei numeri perfetti <= k\n",
    "    return perf\n",
    "\n",
    "print(perfetti(111))\n",
    "    \n",
    "    # --- Svolgimento Esercizio 1: Fine --- #"
   ]
  },
  {
   "cell_type": "markdown",
   "metadata": {
    "deletable": false,
    "editable": false
   },
   "source": [
    "Eseguire la cella seguente per controllare se la funzione è corretta."
   ]
  },
  {
   "cell_type": "code",
   "execution_count": 13,
   "metadata": {
    "deletable": false,
    "editable": false
   },
   "outputs": [
    {
     "data": {
      "text/html": [
       "<table><tr><td style='text-align:center;'>Verifica</td></tr><tr><td style='text-align:center;'><img src='images/test_ok.png'></td></tr></table>"
      ],
      "text/plain": [
       "<IPython.core.display.HTML object>"
      ]
     },
     "metadata": {},
     "output_type": "display_data"
    }
   ],
   "source": [
    "va.test_basi_1(perfetti)"
   ]
  },
  {
   "cell_type": "markdown",
   "metadata": {
    "deletable": false,
    "editable": false
   },
   "source": [
    "<img style=\"float:left\" src=\"images/ar.png\" /> **Esercizio 2** - Nella prossima cella completare la funzione `statistiche_parole()` che riceve in input una stringa e deve restituire una tupla contenente i seguenti valori:\n",
    "\n",
    "* Numero di parole,\n",
    "* Lunghezza della parola più corta,\n",
    "* Lunghezza della parola più lunga,\n",
    "* Lunghezza media delle parole.\n",
    "\n",
    "Come delimitatori, considerare semplicemente il carattere spazio, virgola e punto.  \n",
    "Ad esempio, `statistiche_parole(\"Flat is better than nested.\")` deve restituire `(5, 2, 6, 4.4)`.  \n",
    "Nel caso non ci sia alcuna parola nel testo, la funzione deve restituire `(0, None, None, None)`.  \n",
    "Suggerimenti: possono essere utili alcuni metodi della classe `str` come `split` e `replace`. "
   ]
  },
  {
   "cell_type": "code",
   "execution_count": 38,
   "metadata": {},
   "outputs": [
    {
     "name": "stdout",
     "output_type": "stream",
     "text": [
      "['Flat', 'is', 'better', 'than', 'nested']\n",
      "(5, 2, 6, 4.4)\n"
     ]
    }
   ],
   "source": [
    "def statistiche_parole(testo):\n",
    "\n",
    "    # --- Svolgimento Esercizio 2: Inizio --- #   \n",
    "  \n",
    "    testo=testo.replace(\".\",\" \")\n",
    "    testo=testo.replace(\",\",\" \")\n",
    "    t = testo.split()\n",
    "    if (t == []):\n",
    "        return (0, None, None, None)\n",
    "    \n",
    "    max = 0\n",
    "    min = 1000\n",
    "    sum = 0\n",
    "    for p in t:\n",
    "        sum += len(p)\n",
    "        if(len(p) > max):\n",
    "            max = len(p)\n",
    "        if(len(p) < min):\n",
    "            min = len(p)\n",
    "            \n",
    "    print(t)\n",
    "    \n",
    "    # Restituire la tupla richiesta\n",
    "    \n",
    "    return (len(t), min, max, sum/len(t))   \n",
    "\n",
    "\n",
    "print(statistiche_parole(\"Flat is better than nested.\"))\n",
    "    \n",
    "    # --- Svolgimento Esercizio 2: Fine --- #"
   ]
  },
  {
   "cell_type": "markdown",
   "metadata": {
    "deletable": false,
    "editable": false
   },
   "source": [
    "Eseguire la cella seguente per verificare la funzione in alcuni casi di prova."
   ]
  },
  {
   "cell_type": "code",
   "execution_count": 39,
   "metadata": {
    "deletable": false,
    "editable": false,
    "scrolled": true
   },
   "outputs": [
    {
     "name": "stdout",
     "output_type": "stream",
     "text": [
      "['Beautiful', 'is', 'better', 'than', 'ugly']\n",
      "['Explicit', 'is', 'better', 'than', 'implicit']\n",
      "['Simple', 'is', 'better', 'than', 'complex']\n",
      "['Complex', 'is', 'better', 'than', 'complicated']\n",
      "['Flat', 'is', 'better', 'than', 'nested']\n",
      "['If', 'the', 'implementation', 'is', 'easy', 'to', 'explain', 'it', 'may', 'be', 'a', 'good', 'idea']\n"
     ]
    },
    {
     "data": {
      "text/html": [
       "<table><tr><td style='text-align:center;'>&quot;Beautiful is better than ugly.&quot;</td><td style='text-align:center;'>&quot;Explicit is better than implicit.&quot;</td><td style='text-align:center;'>&quot;Simple is better than complex.&quot;</td><td style='text-align:center;'>&quot;Complex is better than complicated.&quot;</td><td style='text-align:center;'>&quot;Flat is better than nested.&quot;</td><td style='text-align:center;'>&quot;If the implementation is easy to explain, it may be a good idea.&quot;</td><td style='text-align:center;'>&quot;&quot;</td><td style='text-align:center;'>&quot; , .&quot;</td></tr><tr><td style='text-align:center;'><img src='images/test_ok.png'></td><td style='text-align:center;'><img src='images/test_ok.png'></td><td style='text-align:center;'><img src='images/test_ok.png'></td><td style='text-align:center;'><img src='images/test_ok.png'></td><td style='text-align:center;'><img src='images/test_ok.png'></td><td style='text-align:center;'><img src='images/test_ok.png'></td><td style='text-align:center;'><img src='images/test_ok.png'></td><td style='text-align:center;'><img src='images/test_ok.png'></td></tr></table>"
      ],
      "text/plain": [
       "<IPython.core.display.HTML object>"
      ]
     },
     "metadata": {},
     "output_type": "display_data"
    }
   ],
   "source": [
    "va.test_basi_2(statistiche_parole)"
   ]
  },
  {
   "cell_type": "markdown",
   "metadata": {
    "deletable": false,
    "editable": false
   },
   "source": [
    "Si consideri ora la seguente lista di interi."
   ]
  },
  {
   "cell_type": "code",
   "execution_count": 40,
   "metadata": {
    "deletable": false,
    "editable": false
   },
   "outputs": [
    {
     "data": {
      "text/plain": [
       "[0, 1, 2, 3, 4, 5, 6, 7, 8, 9, 10, 11, 12, 13, 14, 15, 16, 17, 18, 19, 20]"
      ]
     },
     "execution_count": 40,
     "metadata": {},
     "output_type": "execute_result"
    }
   ],
   "source": [
    "numeri = list(range(21))\n",
    "numeri"
   ]
  },
  {
   "cell_type": "markdown",
   "metadata": {
    "deletable": false,
    "editable": false
   },
   "source": [
    "<img style=\"float:left\" src=\"images/ar.png\" /> **Esercizio 3** - La cella seguente contiene una tupla (`risultati`) con una serie di liste di interi: si tratta di sottoinsiemi della lista `numeri`. Nella cella successiva inizializzare una tupla identica a  utilizzando *solamente* operazioni di slicing sulla lista `numeri`.  \n",
    "Ad esempio: se fosse `risultati = ([0,1], [0,2,4,6])`, una possibile soluzione sarebbe `slicing = (numeri[:3], numeri[:8:2])`. Nota bene: è richiesto di utilizzare *unicamente* indicizzazione con slicing sulla lista `numeri`: ogni elemento della tupla deve avere la forma `numeri[]` con almeno un ':' all'interno delle parentesi quadre.  \n",
    "Eseguire la cella successiva per controllare la correttezza di quando fatto."
   ]
  },
  {
   "cell_type": "code",
   "execution_count": 44,
   "metadata": {
    "deletable": false,
    "editable": false
   },
   "outputs": [],
   "source": [
    "risultati = ([0,1,2], [20, 19], [11, 14, 17, 20], [], [1, 19], [19, 1], [11])"
   ]
  },
  {
   "cell_type": "code",
   "execution_count": 67,
   "metadata": {},
   "outputs": [
    {
     "name": "stdout",
     "output_type": "stream",
     "text": [
      "([0, 1, 2], [20, 19], [11, 14, 17, 20], [], [1, 19], [19, 1], [11])\n"
     ]
    }
   ],
   "source": [
    "# --- Svolgimento Esercizio 3: Inizio --- #\n",
    "\n",
    "slicing = (numeri[:3], numeri[-1:-3:-1], numeri[11::3], numeri[1:1], numeri[1:20:18], numeri[-2:-21:-18], numeri[11:12]) # Costruire la tupla corretta\n",
    "\n",
    "print(slicing)\n",
    "\n",
    "# --- Svolgimento Esercizio 3: Fine --- #"
   ]
  },
  {
   "cell_type": "code",
   "execution_count": 68,
   "metadata": {
    "deletable": false,
    "editable": false
   },
   "outputs": [
    {
     "data": {
      "text/html": [
       "<table><tr><td style='text-align:center;'>[0, 1, 2]</td><td style='text-align:center;'>[20, 19]</td><td style='text-align:center;'>[11, 14, 17, 20]</td><td style='text-align:center;'>[]</td><td style='text-align:center;'>[1, 19]</td><td style='text-align:center;'>[19, 1]</td><td style='text-align:center;'>[11]</td></tr><tr><td style='text-align:center;'><img src='images/test_ok.png'></td><td style='text-align:center;'><img src='images/test_ok.png'></td><td style='text-align:center;'><img src='images/test_ok.png'></td><td style='text-align:center;'><img src='images/test_ok.png'></td><td style='text-align:center;'><img src='images/test_ok.png'></td><td style='text-align:center;'><img src='images/test_ok.png'></td><td style='text-align:center;'><img src='images/test_ok.png'></td></tr></table>"
      ],
      "text/plain": [
       "<IPython.core.display.HTML object>"
      ]
     },
     "metadata": {},
     "output_type": "display_data"
    }
   ],
   "source": [
    "va.test_basi_3(risultati, slicing)"
   ]
  },
  {
   "cell_type": "markdown",
   "metadata": {
    "deletable": false,
    "editable": false
   },
   "source": [
    "Dopo aver svolto alcuni esercizi in Python, nella parte restante di questa esercitazione faremo un po' di pratica con NumPy. Per meglio apprezzare i vantaggi di NumPy, inizieremo con l'analizzare una serie di operazioni su matrici e vettori implementate in puro Python (senza alcuna libreria aggiuntiva), per poi implementarle in NumPy e confrontarne la velocità."
   ]
  },
  {
   "cell_type": "markdown",
   "metadata": {
    "deletable": false,
    "editable": false
   },
   "source": [
    "Nella prossima cella è implementata una funzione Python che svolge le seguenti operazioni:\n",
    "\n",
    "* Creazione di una matrice $A$ con 100 righe e 50 colonne, in cui ogni elemento ha il seguente valore: $A_{i,j}=i\\cdot j$, con $(i,j)$ indici di riga e colonna 1-based;\n",
    "* Creazione di una matrice $B$ con 50 righe e 200 colonne, in cui ogni elemento ha il seguente valore: $B_{i,j}=i+j$, con $(i,j)$ indici di riga e colonna 1-based;\n",
    "* Calcolare il vettore $cA$ contenente la somma di ciascuna colonna di A;\n",
    "* Calcolare il vettore $rB$ contenente la somma di ciascuna riga di B;\n",
    "* Calcolare la matrice $C=A \\cdot B$;\n",
    "* Creare una matrice $D$ a partire da $A$, ponendo pari a 0 tutti i valori divisibili per 7;\n",
    "* Creare una matrice $E$ a partire da $B$, ponendo pari a -1 tutti i valori il cui indice di riga (1-based) è divisibile per 2 e il cui indice di colonna (1-based) è divisibile per 3.\n",
    "* Restituisce una tupla contenente tutte le matrici e i vettori creati.\n",
    "\n",
    "Analizzare e comprendere il codice (eventualmente creando altre celle per fare opportune prove) prima di proseguire."
   ]
  },
  {
   "cell_type": "code",
   "execution_count": 69,
   "metadata": {
    "deletable": false,
    "editable": false
   },
   "outputs": [],
   "source": [
    "def operazioni_py():\n",
    "    A = [ [i * j for j in range(1, 51)] for i in range(1, 101) ]\n",
    "    B = [ [i + j for j in range(1, 201)] for i in range(1, 51) ]\n",
    "    cA = [ sum( A[i][j] for i in range(len(A)) ) for j in range(len(A[0]))]\n",
    "    rB = [ sum(r) for r in B ]\n",
    "    C = [[sum([A[i][k]*B[k][j] for k in range(len(A[0]))]) for j in range(len(B[0]))] for i in range(len(A))]\n",
    "    D = [ [0 if a % 7 == 0 else a for a in r] for r in A ]\n",
    "    E = [ [-1 if ((i+1) % 2 == 0) and ((j+1) % 3 == 0) else B[i][j] for j in range(len(B[0]))] for i in range(len(B)) ]\n",
    "    return (A, B, C, D, E, cA, rB)"
   ]
  },
  {
   "cell_type": "markdown",
   "metadata": {
    "deletable": false,
    "editable": false
   },
   "source": [
    "<img style=\"float:left\" src=\"images/ar.png\" /> **Esercizio 4** - Nella cella seguente completate la funzione `operazioni_np()` eseguendo le stesse operazioni di `operazioni_py()` mediante NumPy. In questo caso la tupla restituita dalla funzione dovrà contenere oggetti `ndarray` e non liste Python. Le due celle seguenti confrontano i risultati e misurano i tempi di esecuzione."
   ]
  },
  {
   "cell_type": "code",
   "execution_count": 96,
   "metadata": {},
   "outputs": [],
   "source": [
    "def operazioni_np():\n",
    "    # --- Svolgimento Esercizio 4: Inizio --- #\n",
    "    \n",
    "    #A, B, cA, rB, C, D, E = [np.zeros(1)] * 7\n",
    "    \n",
    "\n",
    "    A = np.fromfunction(lambda i, j: (i+1)*(j+1),(100,50))    #[ [i * j for j in range(1, 51)] for i in range(1, 101) ]\n",
    "    \n",
    "    B =  np.fromfunction(lambda i, j: (i+1)+(j+1),(50,200)) #[ [i + j for j in range(1, 201)] for i in range(1, 51) ]\n",
    "    \n",
    "    cA = A.sum(axis=0) #[ sum( A[i][j] for i in range(len(A)) ) for j in range(len(A[0]))]\n",
    "    \n",
    "    rB = B.sum(axis=1) #[ sum(r) for r in B ]\n",
    "    \n",
    "    C = A @ B#[[sum([A[i][k]*B[k][j] for k in range(len(A[0]))]) for j in range(len(B[0]))] for i in range(len(A))]\n",
    "    \n",
    "    \n",
    "    D = np.where(A% 7==0, 0, A)#[ [0 if a % 7 == 0 else a for a in r] for r in A ]\n",
    "    \n",
    "    \n",
    "    E = B.copy()\n",
    "    E[1::2, 2::3]=-1\n",
    "    #[ [-1 if ((i+1) % 2 == 0) and ((j+1) % 3 == 0) else B[i][j] for j in range(len(B[0]))] for i in range(len(B)) ]\n",
    "    \n",
    "    # --- Svolgimento Esercizio 4: Fine --- #\n",
    "    \n",
    "    return (A, B, C, D, E, cA, rB)\n"
   ]
  },
  {
   "cell_type": "code",
   "execution_count": 97,
   "metadata": {
    "deletable": false,
    "editable": false
   },
   "outputs": [
    {
     "data": {
      "text/html": [
       "<table><tr><td style='text-align:center;'>A</td><td style='text-align:center;'>B</td><td style='text-align:center;'>C</td><td style='text-align:center;'>D</td><td style='text-align:center;'>E</td><td style='text-align:center;'>cA</td><td style='text-align:center;'>rB</td></tr><tr><td style='text-align:center;'><img src='images/test_ok.png'></td><td style='text-align:center;'><img src='images/test_ok.png'></td><td style='text-align:center;'><img src='images/test_ok.png'></td><td style='text-align:center;'><img src='images/test_ok.png'></td><td style='text-align:center;'><img src='images/test_ok.png'></td><td style='text-align:center;'><img src='images/test_ok.png'></td><td style='text-align:center;'><img src='images/test_ok.png'></td></tr></table>"
      ],
      "text/plain": [
       "<IPython.core.display.HTML object>"
      ]
     },
     "metadata": {},
     "output_type": "display_data"
    }
   ],
   "source": [
    "va.test_basi_4(operazioni_py, operazioni_np)"
   ]
  },
  {
   "cell_type": "code",
   "execution_count": null,
   "metadata": {
    "deletable": false,
    "editable": false
   },
   "outputs": [],
   "source": [
    "print(\"Misura del tempo di esecuzione dell'implementazione Python:\")\n",
    "%timeit operazioni_py()\n",
    "\n",
    "print(\"Misura del tempo di esecuzione dell'implementazione NumPy:\")\n",
    "%timeit operazioni_np()"
   ]
  },
  {
   "cell_type": "markdown",
   "metadata": {
    "deletable": false,
    "editable": false
   },
   "source": [
    "Consideriamo ora il *Setaccio di Eratostene*, un antico algoritmo per calcolare la tabella dei numeri primi fino a un certo numero $N$. Il procedimento è piuttosto semplice: si scrivono tutti i numeri naturali fino a $N$ in un elenco (il *setaccio*). Poi si cancellano tutti i multipli del primo numero del setaccio (iniziando da 2), escludendo il numero stesso. Si ripete poi l'operazione con il successivo numero non cancellato, fino a superare $\\sqrt{N}$. Si può dimostrare che, per ogni numero $i$, la ricerca dei multipli da cancellare può iniziare da $i^2$, in quanto i multipli precedenti sono già stati cancellati.  \n",
    "L'animazione nella figura seguente esemplifica il procedimento per $N=120$: la ricerca si può interrompere al numero 11, in quanto $\\left \\lfloor{\\sqrt{N}}\\right \\rfloor = 10$.\n",
    "\n",
    "![Setaccio di Eratostene](pynp/Eratostene.gif)"
   ]
  },
  {
   "cell_type": "markdown",
   "metadata": {
    "deletable": false,
    "editable": false
   },
   "source": [
    "<img style=\"float:left\" src=\"images/ar.png\" /> **Esercizio 5** - Nella cella seguente completate la funzione `eratostene(n)` che deve implementare l'algoritmo appena descritto e restituire un array NumPy contenente tutti i numeri primi inferiori o uguali al parametro `n`. Si chiede di implementare il *setaccio* come un array NumPy di `n+1` booleani: al termine dell'algoritmo, il valore dell'elemento di indice `i` di tale array deve essere `True` se `i` è primo, `False` altrimenti. Gli elementi di indice 0 e 1 vanno impostati *manualmente* a `False`, per gli altri si deve utilizzare l'algoritmo. La funzione deve infine utilizzare tale array booleano per restituire un array NumPy di interi contenente i numeri primi individuati.  \n",
    "Suggerimenti: per la radice quadrata si può utilizzare l'operatore \\*\\* (oppure importare il modulo math e utilizzare math.sqrt()), per l'intero inferiore si può utilizzare int() oppure math.floor()).  \n",
    "Eseguire la cella seguente per controllare la funzione in alcuni casi di prova."
   ]
  },
  {
   "cell_type": "code",
   "execution_count": 102,
   "metadata": {},
   "outputs": [],
   "source": [
    "def eratostene(n):\n",
    "    \n",
    "    # --- Svolgimento Esercizio 5: Inizio --- #\n",
    "\n",
    "    setaccio = np.full(n+1,True,bool)\n",
    "    setaccio [:2] = False\n",
    "    \n",
    "    for i in range(2, int(n**0.5)+1):\n",
    "        if setaccio[i]:\n",
    "            setaccio[i*2::i]=False\n",
    "    \n",
    "    return np.arange(n+1)[setaccio]\n",
    "    \n",
    "\n",
    "    # --- Svolgimento Esercizio 5: Fine --- #"
   ]
  },
  {
   "cell_type": "code",
   "execution_count": 103,
   "metadata": {
    "deletable": false,
    "editable": false
   },
   "outputs": [
    {
     "data": {
      "text/html": [
       "<table><tr><td style='text-align:center;'>0</td><td style='text-align:center;'>100</td><td style='text-align:center;'>200</td><td style='text-align:center;'>300</td><td style='text-align:center;'>400</td><td style='text-align:center;'>500</td><td style='text-align:center;'>600</td><td style='text-align:center;'>700</td><td style='text-align:center;'>800</td><td style='text-align:center;'>900</td><td style='text-align:center;'>1000</td><td style='text-align:center;'>1100</td><td style='text-align:center;'>1200</td></tr><tr><td style='text-align:center;'><img src='images/test_ok.png'></td><td style='text-align:center;'><img src='images/test_ok.png'></td><td style='text-align:center;'><img src='images/test_ok.png'></td><td style='text-align:center;'><img src='images/test_ok.png'></td><td style='text-align:center;'><img src='images/test_ok.png'></td><td style='text-align:center;'><img src='images/test_ok.png'></td><td style='text-align:center;'><img src='images/test_ok.png'></td><td style='text-align:center;'><img src='images/test_ok.png'></td><td style='text-align:center;'><img src='images/test_ok.png'></td><td style='text-align:center;'><img src='images/test_ok.png'></td><td style='text-align:center;'><img src='images/test_ok.png'></td><td style='text-align:center;'><img src='images/test_ok.png'></td><td style='text-align:center;'><img src='images/test_ok.png'></td></tr></table>"
      ],
      "text/plain": [
       "<IPython.core.display.HTML object>"
      ]
     },
     "metadata": {},
     "output_type": "display_data"
    }
   ],
   "source": [
    "va.test_basi_5(eratostene)"
   ]
  },
  {
   "cell_type": "markdown",
   "metadata": {
    "deletable": false,
    "editable": false
   },
   "source": [
    "<img style=\"float:left\" src=\"images/ar.png\" /> **Esercizio 6** - Nella prossima cella completate la funzione `es6(n)`, che deve svolgere le seguenti operazioni attraverso opportune istruzioni Python e NumPy:\n",
    "\n",
    "* Creare un array NumPy $p$ contenente i numeri primi minori o uguali a $2^n$ (a tale scopo utilizzare la funzione `eratostene()`;\n",
    "* Create un array NumPy $d$ contenente le prime $n+1$ potenze del 2 {$2^0$, $2^1$, ..., $2^n$};\n",
    "* Costruire una matrice $A$ tale che $A_{i,j} = min(p_i, d_j)$\n",
    "* Restituire la somma degli elementi di $A$.\n",
    "\n",
    "Suggerimenti: in NumPy è disponibile una *ufunc* che calcola il minimo elemento-per-elemento fra due matrici: come tutte le ufunc permette anche di utilizzare il broadcasting.  \n",
    "Eseguire la cella seguente per controllare la funzione in alcuni casi di prova."
   ]
  },
  {
   "cell_type": "code",
   "execution_count": 104,
   "metadata": {},
   "outputs": [],
   "source": [
    "def es6(n):\n",
    "    \n",
    "    # --- Svolgimento Esercizio 6: Inizio --- #    \n",
    "    \n",
    "    p= eratostene(2**n)\n",
    "    d=2**np.arange(n+1)\n",
    "    \n",
    "    A=np.minimum(p[:,np.newaxis],d)\n",
    "    \n",
    "    return  A.sum()\n",
    "\n",
    "    # --- Svolgimento Esercizio 6: Fine --- #"
   ]
  },
  {
   "cell_type": "code",
   "execution_count": 105,
   "metadata": {
    "deletable": false,
    "editable": false
   },
   "outputs": [
    {
     "data": {
      "text/html": [
       "<table><tr><td style='text-align:center;'>n=0</td><td style='text-align:center;'>n=1</td><td style='text-align:center;'>n=2</td><td style='text-align:center;'>n=3</td><td style='text-align:center;'>n=4</td><td style='text-align:center;'>n=5</td><td style='text-align:center;'>n=6</td><td style='text-align:center;'>n=7</td><td style='text-align:center;'>n=8</td><td style='text-align:center;'>n=9</td></tr><tr><td style='text-align:center;'><img src='images/test_ok.png'></td><td style='text-align:center;'><img src='images/test_ok.png'></td><td style='text-align:center;'><img src='images/test_ok.png'></td><td style='text-align:center;'><img src='images/test_ok.png'></td><td style='text-align:center;'><img src='images/test_ok.png'></td><td style='text-align:center;'><img src='images/test_ok.png'></td><td style='text-align:center;'><img src='images/test_ok.png'></td><td style='text-align:center;'><img src='images/test_ok.png'></td><td style='text-align:center;'><img src='images/test_ok.png'></td><td style='text-align:center;'><img src='images/test_ok.png'></td></tr></table>"
      ],
      "text/plain": [
       "<IPython.core.display.HTML object>"
      ]
     },
     "metadata": {},
     "output_type": "display_data"
    }
   ],
   "source": [
    "va.test_basi_6(es6)"
   ]
  },
  {
   "cell_type": "markdown",
   "metadata": {
    "deletable": false,
    "editable": false
   },
   "source": [
    "Concludiamo questa esercitazione eseguendo l'ultima funzione che abbiamo creato con il parametro $n=3$; è sufficiente eseguire l'ultima cella. Questa potrebbe essere la risposta che qualcuno stava aspettando, o forse no: l'esercitazione è comunque conclusa."
   ]
  },
  {
   "cell_type": "code",
   "execution_count": 106,
   "metadata": {
    "deletable": false,
    "editable": false
   },
   "outputs": [
    {
     "data": {
      "text/plain": [
       "42"
      ]
     },
     "execution_count": 106,
     "metadata": {},
     "output_type": "execute_result"
    }
   ],
   "source": [
    "es6(3)"
   ]
  }
 ],
 "metadata": {
  "kernelspec": {
   "display_name": "Python 3 (ipykernel)",
   "language": "python",
   "name": "python3"
  },
  "language_info": {
   "codemirror_mode": {
    "name": "ipython",
    "version": 3
   },
   "file_extension": ".py",
   "mimetype": "text/x-python",
   "name": "python",
   "nbconvert_exporter": "python",
   "pygments_lexer": "ipython3",
   "version": "3.9.7"
  }
 },
 "nbformat": 4,
 "nbformat_minor": 4
}
