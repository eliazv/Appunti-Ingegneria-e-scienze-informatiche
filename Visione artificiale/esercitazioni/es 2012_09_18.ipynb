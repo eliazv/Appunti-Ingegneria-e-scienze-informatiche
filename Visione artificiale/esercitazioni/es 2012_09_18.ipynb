{
 "cells": [
  {
   "cell_type": "markdown",
   "id": "a5830938-76ee-4b8b-b8d6-22345f60de43",
   "metadata": {},
   "source": [
    "Trasforma un’immagine binaria (memorizzata come immagine di byte) nel modo seguente: \n",
    "1. per ogni componente connessa, sia N_I il numero di pixel interni (ossia non di bordo) e P il perimetro;\n",
    "2. il valore di ogni pixel nell’immagine risultante è il rapporto N_I ⁄ P della componente connessa a cui il pixel stesso appartiene nell’immagine di input;\n",
    "3. se il pixel non appartiene ad alcuna componente connessa dovrà avere valore -1 nell’immagine risultante. \n",
    "4. restituisca un’immagine contenente solamente le componenti connesse in cui il rapporto N_I ⁄ P è minore della media di tale rapporto calcolata su tutte le componenti connesse dell’immagine di input, dove N_I è il numero di pixel interni (ossia non di bordo) e P il perimetro di una componente connessa. "
   ]
  },
  {
   "cell_type": "code",
   "execution_count": 1,
   "id": "29d8d8dd-8e15-4799-94b2-2d2aadec01b2",
   "metadata": {},
   "outputs": [],
   "source": [
    "import numpy as np\n",
    "import cv2 as cv\n",
    "import va\n",
    "from ipywidgets import interact"
   ]
  },
  {
   "cell_type": "code",
   "execution_count": null,
   "id": "e94cf161-2b9a-4f66-8c1c-4e3a2b4ebd41",
   "metadata": {},
   "outputs": [],
   "source": [
    "#1\n"
   ]
  }
 ],
 "metadata": {
  "kernelspec": {
   "display_name": "Python 3 (ipykernel)",
   "language": "python",
   "name": "python3"
  },
  "language_info": {
   "codemirror_mode": {
    "name": "ipython",
    "version": 3
   },
   "file_extension": ".py",
   "mimetype": "text/x-python",
   "name": "python",
   "nbconvert_exporter": "python",
   "pygments_lexer": "ipython3",
   "version": "3.9.7"
  }
 },
 "nbformat": 4,
 "nbformat_minor": 5
}
